{
 "cells": [
  {
   "cell_type": "markdown",
   "metadata": {},
   "source": [
    "Code adapted from TensorFlow's \"Image captioning with visual attention\" article, specifically the \"A Transformer decoder model section.\n",
    "https://www.tensorflow.org/text/tutorials/image_captioning#a_transformer_decoder_model"
   ]
  },
  {
   "cell_type": "code",
   "execution_count": 170,
   "metadata": {},
   "outputs": [],
   "source": [
    "import re\n",
    "import string\n",
    "import importlib\n",
    "\n",
    "import einops\n",
    "import matplotlib.pyplot as plt\n",
    "import numpy as np\n",
    "import pandas as pd\n",
    "import pickle as pk\n",
    "\n",
    "import tensorflow as tf\n",
    "import tensorflow_hub as hub\n",
    "import tensorflow_text as text\n",
    "import tensorflow_datasets as tfds\n",
    "from tensorflow.keras.applications import MobileNetV3Small\n",
    "from tensorflow.keras.layers import TextVectorization\n",
    "from tensorflow.keras.callbacks import EarlyStopping\n",
    "from tensorflow.keras.optimizers import Adam\n",
    "from pycocotools.coco import COCO\n",
    "\n",
    "# So we don't have to reload the notebook each time a change is made to dataset.py or model.py\n",
    "import utils.model\n",
    "importlib.reload(utils.model)\n",
    "import utils.dataset\n",
    "importlib.reload(utils.dataset)\n",
    "##############################################################################################\n",
    "\n",
    "from utils.model import SeqEmbedding, CausalSelfAttention, CrossAttention, FeedForward, DecoderLayer, TokenOutput, Captioner, GenerateText\n",
    "from utils.dataset import setup_trainval_sets, standardize, load_dataset, load_image"
   ]
  },
  {
   "cell_type": "code",
   "execution_count": 171,
   "metadata": {},
   "outputs": [],
   "source": [
    "# Constants for notebook\n",
    "TRAIN_DATASET_PATH = \"./processed_dataset/train2014_full\"\n",
    "VAL_DATASET_PATH = \"./processed_dataset/val2014_full\"\n",
    "TRAIN_ANNOTATIONS_PATH = \"dataset/annotations_trainval2014/captions_train2014.json\"\n",
    "VAL_ANNOTATIONS_PATH = \"dataset/annotations_trainval2014/captions_val2014.json\"\n",
    "\n",
    "BATCH_SIZE = 256\n",
    "VOCABULARY_SIZE = 10000\n",
    "IMAGE_SHAPE = (224, 224, 3)"
   ]
  },
  {
   "cell_type": "code",
   "execution_count": 172,
   "metadata": {},
   "outputs": [
    {
     "name": "stdout",
     "output_type": "stream",
     "text": [
      "loading annotations into memory...\n",
      "Done (t=1.53s)\n",
      "creating index...\n",
      "index created!\n"
     ]
    }
   ],
   "source": [
    "coco_train = COCO(TRAIN_ANNOTATIONS_PATH)"
   ]
  },
  {
   "cell_type": "code",
   "execution_count": 173,
   "metadata": {},
   "outputs": [],
   "source": [
    "train_raw = setup_trainval_sets(\"train2014\", coco_train)"
   ]
  },
  {
   "cell_type": "code",
   "execution_count": 174,
   "metadata": {},
   "outputs": [
    {
     "name": "stdout",
     "output_type": "stream",
     "text": [
      "Image path: b'dataset/train2014/COCO_train2014_000000057870.jpg'\n",
      "Caption: b'A restaurant has modern wooden tables and chairs.'\n"
     ]
    },
    {
     "name": "stderr",
     "output_type": "stream",
     "text": [
      "2025-01-24 18:41:39.317466: I tensorflow/core/framework/local_rendezvous.cc:405] Local rendezvous is aborting with status: OUT_OF_RANGE: End of sequence\n"
     ]
    }
   ],
   "source": [
    "for ex_path, ex_caption in train_raw.take(1):\n",
    "    print(\"Image path:\", ex_path.numpy())\n",
    "    print(\"Caption:\", ex_caption.numpy())"
   ]
  },
  {
   "cell_type": "code",
   "execution_count": 175,
   "metadata": {},
   "outputs": [],
   "source": [
    "mobilenet = MobileNetV3Small(\n",
    "    input_shape=IMAGE_SHAPE,\n",
    "    include_top=False, # Exclude the classification head\n",
    "    weights='imagenet',\n",
    "    pooling=None,\n",
    ")\n",
    "\n",
    "mobilenet.trainable=False"
   ]
  },
  {
   "cell_type": "code",
   "execution_count": 176,
   "metadata": {},
   "outputs": [],
   "source": [
    "tokenizer = TextVectorization(\n",
    "  max_tokens=VOCABULARY_SIZE,\n",
    "  standardize=standardize,\n",
    "  output_sequence_length=50,\n",
    "  ragged=True\n",
    ")"
   ]
  },
  {
   "cell_type": "code",
   "execution_count": 177,
   "metadata": {},
   "outputs": [],
   "source": [
    "tokenizer.adapt(train_raw.map(lambda img_path, caption: caption).batch(1024))"
   ]
  },
  {
   "cell_type": "code",
   "execution_count": 178,
   "metadata": {},
   "outputs": [
    {
     "data": {
      "text/plain": [
       "['',\n",
       " '[UNK]',\n",
       " np.str_('a'),\n",
       " np.str_('[START]'),\n",
       " np.str_('[END]'),\n",
       " np.str_('on'),\n",
       " np.str_('of'),\n",
       " np.str_('the'),\n",
       " np.str_('in'),\n",
       " np.str_('with')]"
      ]
     },
     "execution_count": 178,
     "metadata": {},
     "output_type": "execute_result"
    }
   ],
   "source": [
    "tokenizer.get_vocabulary()[:10]"
   ]
  },
  {
   "cell_type": "code",
   "execution_count": 179,
   "metadata": {},
   "outputs": [],
   "source": [
    "t = tokenizer([['a large wooden cat'], ['a table on a hill']])"
   ]
  },
  {
   "cell_type": "code",
   "execution_count": 182,
   "metadata": {},
   "outputs": [
    {
     "data": {
      "text/plain": [
       "<tf.RaggedTensor [[3, 2, 29, 99, 51, 4], [3, 2, 24, 5, 2, 224, 4]]>"
      ]
     },
     "execution_count": 182,
     "metadata": {},
     "output_type": "execute_result"
    }
   ],
   "source": [
    "t"
   ]
  },
  {
   "cell_type": "code",
   "execution_count": 181,
   "metadata": {},
   "outputs": [
    {
     "data": {
      "text/plain": [
       "tf.int64"
      ]
     },
     "execution_count": 181,
     "metadata": {},
     "output_type": "execute_result"
    }
   ],
   "source": [
    "t.dtype"
   ]
  },
  {
   "cell_type": "code",
   "execution_count": 183,
   "metadata": {},
   "outputs": [],
   "source": [
    "# Setting up data for training\n",
    "train_ds = load_dataset(TRAIN_DATASET_PATH)\n",
    "val_ds = load_dataset(VAL_DATASET_PATH)"
   ]
  },
  {
   "cell_type": "code",
   "execution_count": 184,
   "metadata": {},
   "outputs": [
    {
     "name": "stdout",
     "output_type": "stream",
     "text": [
      "(256, 7, 7, 576)\n",
      "(256, 18)\n",
      "(256, 18)\n",
      "tf.Tensor([  3  30 190 651  10 248  20   8   2 161   0   0   0   0   0   0   0   0], shape=(18,), dtype=int64)\n",
      "tf.Tensor([ 30 190 651  10 248  20   8   2 161   4   0   0   0   0   0   0   0   0], shape=(18,), dtype=int64)\n",
      "tf.Tensor(\n",
      "[[[-0.         -0.         -0.         ... -0.         -0.3723814\n",
      "   -0.        ]\n",
      "  [-0.         -0.         -0.26325056 ... -0.         -0.37417334\n",
      "    2.7213187 ]\n",
      "  [-0.         -0.         -0.3483031  ... -0.         -0.25607362\n",
      "   -0.        ]\n",
      "  ...\n",
      "  [-0.16283979 -0.         -0.         ... -0.         -0.34004173\n",
      "   -0.        ]\n",
      "  [-0.         -0.08655853 -0.         ... -0.3732316   2.583459\n",
      "    1.8625335 ]\n",
      "  [-0.         -0.         -0.         ... -0.          1.8043808\n",
      "    0.08865004]]\n",
      "\n",
      " [[-0.         -0.         -0.30955175 ... -0.         -0.\n",
      "   -0.        ]\n",
      "  [-0.         -0.         -0.35118377 ... -0.         -0.\n",
      "    0.31250262]\n",
      "  [-0.         -0.         -0.37416735 ... -0.31342405 -0.32550076\n",
      "   -0.        ]\n",
      "  ...\n",
      "  [ 1.5518132   1.5475645  -0.         ...  5.9114246   5.572886\n",
      "   -0.        ]\n",
      "  [ 3.4054809  -0.37319362 -0.         ...  4.1426697   9.130196\n",
      "   -0.        ]\n",
      "  [ 2.8339357   2.195952   -0.         ...  3.4529066  12.228701\n",
      "   -0.        ]]\n",
      "\n",
      " [[ 1.2748396   1.34699    -0.         ... -0.         -0.\n",
      "   -0.        ]\n",
      "  [13.683556    4.3054895  -0.         ... -0.         -0.\n",
      "   -0.        ]\n",
      "  [ 9.726799    0.55897236 -0.1629714  ... -0.         -0.\n",
      "   -0.        ]\n",
      "  ...\n",
      "  [-0.         -0.         -0.         ...  3.3588505  -0.\n",
      "   -0.        ]\n",
      "  [-0.         -0.         -0.         ...  0.95782197 -0.\n",
      "   -0.        ]\n",
      "  [-0.14038639 -0.          0.1714602  ... -0.09953685 -0.2310296\n",
      "   -0.        ]]\n",
      "\n",
      " ...\n",
      "\n",
      " [[-0.         -0.         -0.         ... -0.         -0.\n",
      "   -0.        ]\n",
      "  [-0.         -0.         -0.09088113 ... -0.         -0.\n",
      "   -0.        ]\n",
      "  [ 0.581287   -0.35995933 -0.35110515 ...  5.7062683   0.16011216\n",
      "   -0.        ]\n",
      "  ...\n",
      "  [-0.          2.0682669  -0.         ... -0.36751083 -0.\n",
      "   -0.        ]\n",
      "  [-0.          3.5315742  -0.         ... -0.28948084 -0.\n",
      "   -0.        ]\n",
      "  [-0.36740345 -0.07308148 -0.         ...  0.5259606  -0.37353757\n",
      "   -0.        ]]\n",
      "\n",
      " [[-0.         -0.         -0.0194455  ... -0.         -0.22508731\n",
      "   -0.        ]\n",
      "  [-0.         -0.         -0.20828828 ... -0.         -0.\n",
      "   -0.        ]\n",
      "  [-0.         -0.          0.08021727 ... -0.         -0.\n",
      "   -0.        ]\n",
      "  ...\n",
      "  [-0.214471   -0.         -0.         ...  7.514697    0.8718208\n",
      "   -0.        ]\n",
      "  [-0.275406   -0.10829237 -0.         ...  6.664542   -0.\n",
      "   -0.        ]\n",
      "  [-0.         -0.         -0.         ...  1.3367076  -0.\n",
      "   -0.        ]]\n",
      "\n",
      " [[-0.         -0.         -0.03389947 ... -0.          2.6822507\n",
      "   -0.        ]\n",
      "  [-0.         -0.         -0.36623666 ... -0.          0.22886257\n",
      "   -0.25442725]\n",
      "  [-0.         -0.         -0.         ... -0.         -0.\n",
      "   -0.        ]\n",
      "  ...\n",
      "  [-0.         -0.         -0.35801786 ... -0.         -0.31672814\n",
      "   -0.2859122 ]\n",
      "  [-0.         -0.         -0.32390523 ... -0.32913315 -0.37286043\n",
      "   -0.        ]\n",
      "  [-0.         -0.         -0.19497511 ... -0.         -0.\n",
      "   -0.        ]]], shape=(7, 7, 576), dtype=float32)\n"
     ]
    }
   ],
   "source": [
    "# Sanity check for data loading\n",
    "train_ds.element_spec\n",
    "\n",
    "for (inputs, ex_labels) in train_ds.take(1):\n",
    "  (ex_img, ex_in_tok) = inputs\n",
    "\n",
    "print(ex_img.shape)\n",
    "print(ex_in_tok.shape)\n",
    "print(ex_labels.shape)\n",
    "\n",
    "print(ex_in_tok[0])\n",
    "print(ex_labels[0])\n",
    "print(ex_img[0])"
   ]
  },
  {
   "cell_type": "code",
   "execution_count": 185,
   "metadata": {},
   "outputs": [
    {
     "name": "stderr",
     "output_type": "stream",
     "text": [
      "100%|██████████| 1618/1618 [11:07<00:00,  2.42it/s]"
     ]
    },
    {
     "name": "stdout",
     "output_type": "stream",
     "text": [
      "\n",
      "Uniform entropy: 9.21\n",
      "Marginal entropy: 5.41\n"
     ]
    },
    {
     "name": "stderr",
     "output_type": "stream",
     "text": [
      "\n"
     ]
    }
   ],
   "source": [
    "output_layer = TokenOutput(tokenizer, banned_tokens=('', '[UNK]', '[START]'))\n",
    "output_layer.adapt(train_ds.map(lambda inputs, labels: labels))"
   ]
  },
  {
   "cell_type": "code",
   "execution_count": 186,
   "metadata": {},
   "outputs": [],
   "source": [
    "model = Captioner(\n",
    "    tokenizer, \n",
    "    feature_extractor=mobilenet, \n",
    "    output_layer=output_layer,\n",
    "    units=256, \n",
    "    dropout_rate=0.5, \n",
    "    num_layers=2, \n",
    "    num_heads=2\n",
    ")"
   ]
  },
  {
   "cell_type": "code",
   "execution_count": 21,
   "metadata": {},
   "outputs": [],
   "source": [
    "image_url = 'https://tensorflow.org/images/surf.jpg'\n",
    "image_path = tf.keras.utils.get_file('surf.jpg', origin=image_url)\n",
    "image = load_image(image_path, IMAGE_SHAPE)"
   ]
  },
  {
   "cell_type": "code",
   "execution_count": 108,
   "metadata": {},
   "outputs": [
    {
     "name": "stderr",
     "output_type": "stream",
     "text": [
      "/home/hylke/miniconda3/envs/imagecaption/lib/python3.10/site-packages/keras/src/layers/layer.py:393: UserWarning: `build()` was called on layer 'captioner_3', however the layer does not have a `build()` method implemented and it looks like it has unbuilt state. This will cause the layer to be marked as built, despite not being actually built, which may cause failures down the line. Make sure to implement a proper `build()` method.\n",
      "  warnings.warn(\n"
     ]
    },
    {
     "name": "stdout",
     "output_type": "stream",
     "text": [
      "tf.Tensor([[3 2 2 4]], shape=(1, 4), dtype=int64)\n",
      "a a\n",
      "--------\n",
      "tf.Tensor([[3 2 4]], shape=(1, 3), dtype=int64)\n",
      "a\n",
      "--------\n",
      "tf.Tensor(\n",
      "[[   3  326  107    2   98  181 1250   42   69  561  304  216   28  149\n",
      "     4]], shape=(1, 15), dtype=int64)\n",
      "cheese one a sits teddy hits black side case soccer tie person stop\n",
      "--------\n"
     ]
    }
   ],
   "source": [
    "for t in (0.0, 0.5, 1.0):\n",
    "  result = model.simple_gen(image, temperature=t)\n",
    "  print(result)\n",
    "  print(\"--------\")"
   ]
  },
  {
   "cell_type": "code",
   "execution_count": 187,
   "metadata": {},
   "outputs": [],
   "source": [
    "def masked_loss(labels, preds):\n",
    "  labels = tf.cast(labels, tf.int32)  # Ensure labels are integers\n",
    "  loss = tf.nn.sparse_softmax_cross_entropy_with_logits(labels, preds)\n",
    "\n",
    "  mask = (labels != 0) & (loss < 1e8) \n",
    "  mask = tf.cast(mask, loss.dtype)\n",
    "\n",
    "  loss = loss*mask\n",
    "  loss = tf.reduce_sum(loss)/tf.reduce_sum(mask)\n",
    "  return loss\n",
    "\n",
    "def masked_acc(labels, preds):\n",
    "  mask = tf.cast(labels!=0, tf.float32)\n",
    "  preds = tf.argmax(preds, axis=-1)\n",
    "  labels = tf.cast(labels, tf.int64)\n",
    "  match = tf.cast(preds == labels, mask.dtype)\n",
    "  acc = tf.reduce_sum(match*mask)/tf.reduce_sum(mask)\n",
    "  return acc"
   ]
  },
  {
   "cell_type": "code",
   "execution_count": 188,
   "metadata": {},
   "outputs": [],
   "source": [
    "callbacks = [\n",
    "    GenerateText(IMAGE_SHAPE),\n",
    "    EarlyStopping(patience=5, restore_best_weights=True)\n",
    "]"
   ]
  },
  {
   "cell_type": "code",
   "execution_count": 189,
   "metadata": {},
   "outputs": [],
   "source": [
    "model.compile(optimizer=Adam(learning_rate=1e-4), loss=masked_loss, metrics=[masked_acc])"
   ]
  },
  {
   "cell_type": "code",
   "execution_count": 190,
   "metadata": {},
   "outputs": [
    {
     "name": "stdout",
     "output_type": "stream",
     "text": [
      "Epoch 1/100\n"
     ]
    },
    {
     "name": "stderr",
     "output_type": "stream",
     "text": [
      "/home/hylke/miniconda3/envs/imagecaption/lib/python3.10/site-packages/keras/src/layers/layer.py:393: UserWarning: `build()` was called on layer 'captioner_9', however the layer does not have a `build()` method implemented and it looks like it has unbuilt state. This will cause the layer to be marked as built, despite not being actually built, which may cause failures down the line. Make sure to implement a proper `build()` method.\n",
      "  warnings.warn(\n"
     ]
    },
    {
     "name": "stdout",
     "output_type": "stream",
     "text": [
      "\u001b[1m100/100\u001b[0m \u001b[32m━━━━━━━━━━━━━━━━━━━━\u001b[0m\u001b[37m\u001b[0m \u001b[1m0s\u001b[0m 431ms/step - loss: 5.0736 - masked_acc: 0.2188\n",
      "\n"
     ]
    },
    {
     "name": "stderr",
     "output_type": "stream",
     "text": [
      "/home/hylke/miniconda3/envs/imagecaption/lib/python3.10/site-packages/keras/src/ops/nn.py:907: UserWarning: You are using a softmax over axis 3 of a tensor of shape (1, 2, 1, 1). This axis has size 1. The softmax operation will always return the value 1, which is likely not what you intended. Did you mean to use a sigmoid instead?\n",
      "  warnings.warn(\n"
     ]
    },
    {
     "name": "stdout",
     "output_type": "stream",
     "text": [
      "a man on a man on a man on a\n",
      "a person is in a table with the a in a\n",
      "a dark meat decker round is man with computer the bike on night of a a woman street\n",
      "\n",
      "\u001b[1m100/100\u001b[0m \u001b[32m━━━━━━━━━━━━━━━━━━━━\u001b[0m\u001b[37m\u001b[0m \u001b[1m62s\u001b[0m 561ms/step - loss: 5.0712 - masked_acc: 0.2192 - val_loss: 4.4383 - val_masked_acc: 0.3016\n",
      "Epoch 2/100\n",
      "\u001b[1m100/100\u001b[0m \u001b[32m━━━━━━━━━━━━━━━━━━━━\u001b[0m\u001b[37m\u001b[0m \u001b[1m0s\u001b[0m 415ms/step - loss: 4.3279 - masked_acc: 0.3132\n",
      "\n",
      "a man is on a man on a\n",
      "a man is on the street\n",
      "an plan with out of a water is out his slope\n",
      "\n",
      "\u001b[1m100/100\u001b[0m \u001b[32m━━━━━━━━━━━━━━━━━━━━\u001b[0m\u001b[37m\u001b[0m \u001b[1m52s\u001b[0m 520ms/step - loss: 4.3270 - masked_acc: 0.3133 - val_loss: 4.0628 - val_masked_acc: 0.3414\n",
      "Epoch 3/100\n",
      "\u001b[1m100/100\u001b[0m \u001b[32m━━━━━━━━━━━━━━━━━━━━\u001b[0m\u001b[37m\u001b[0m \u001b[1m0s\u001b[0m 405ms/step - loss: 4.0033 - masked_acc: 0.3461\n",
      "\n",
      "a man is on a surfboard on a surfboard\n",
      "a man that is sitting on a snow\n",
      "two crowd in a pristine locomotive playing sign with a jacket in the other\n",
      "\n",
      "\u001b[1m100/100\u001b[0m \u001b[32m━━━━━━━━━━━━━━━━━━━━\u001b[0m\u001b[37m\u001b[0m \u001b[1m52s\u001b[0m 525ms/step - loss: 4.0026 - masked_acc: 0.3462 - val_loss: 3.8212 - val_masked_acc: 0.3629\n",
      "Epoch 4/100\n",
      "\u001b[1m100/100\u001b[0m \u001b[32m━━━━━━━━━━━━━━━━━━━━\u001b[0m\u001b[37m\u001b[0m \u001b[1m0s\u001b[0m 372ms/step - loss: 3.7617 - masked_acc: 0.3682\n",
      "\n",
      "a man in a surfboard on a surfboard\n",
      "a man on the beach with a wave\n",
      "a mountain cutting laying on top cups in his bench\n",
      "\n",
      "\u001b[1m100/100\u001b[0m \u001b[32m━━━━━━━━━━━━━━━━━━━━\u001b[0m\u001b[37m\u001b[0m \u001b[1m48s\u001b[0m 480ms/step - loss: 3.7615 - masked_acc: 0.3682 - val_loss: 3.6582 - val_masked_acc: 0.3762\n",
      "Epoch 5/100\n",
      "\u001b[1m100/100\u001b[0m \u001b[32m━━━━━━━━━━━━━━━━━━━━\u001b[0m\u001b[37m\u001b[0m \u001b[1m0s\u001b[0m 336ms/step - loss: 3.6127 - masked_acc: 0.3812\n",
      "\n",
      "a man in a surfboard on a wave\n",
      "a person on a surfboard in front of a surfboard\n",
      "the skateboard returns black away series of a surfboard\n",
      "\n",
      "\u001b[1m100/100\u001b[0m \u001b[32m━━━━━━━━━━━━━━━━━━━━\u001b[0m\u001b[37m\u001b[0m \u001b[1m45s\u001b[0m 453ms/step - loss: 3.6123 - masked_acc: 0.3812 - val_loss: 3.5063 - val_masked_acc: 0.3903\n",
      "Epoch 6/100\n",
      "\u001b[1m100/100\u001b[0m \u001b[32m━━━━━━━━━━━━━━━━━━━━\u001b[0m\u001b[37m\u001b[0m \u001b[1m0s\u001b[0m 332ms/step - loss: 3.5046 - masked_acc: 0.3913\n",
      "\n",
      "a man is on a wave on a wave\n",
      "a man is playing on a wave next to a surfboard\n",
      "two eat in white submerged wears a surf posing on the ocean in ocean\n",
      "\n",
      "\u001b[1m100/100\u001b[0m \u001b[32m━━━━━━━━━━━━━━━━━━━━\u001b[0m\u001b[37m\u001b[0m \u001b[1m44s\u001b[0m 448ms/step - loss: 3.5044 - masked_acc: 0.3914 - val_loss: 3.4356 - val_masked_acc: 0.3945\n",
      "Epoch 7/100\n",
      "\u001b[1m100/100\u001b[0m \u001b[32m━━━━━━━━━━━━━━━━━━━━\u001b[0m\u001b[37m\u001b[0m \u001b[1m0s\u001b[0m 329ms/step - loss: 3.3730 - masked_acc: 0.4009\n",
      "\n",
      "a man in a surfboard in a wave\n",
      "a woman sitting on a wave on a wave\n",
      "a person are riding red kite on a his back car\n",
      "\n",
      "\u001b[1m100/100\u001b[0m \u001b[32m━━━━━━━━━━━━━━━━━━━━\u001b[0m\u001b[37m\u001b[0m \u001b[1m45s\u001b[0m 452ms/step - loss: 3.3729 - masked_acc: 0.4009 - val_loss: 3.2985 - val_masked_acc: 0.4090\n",
      "Epoch 8/100\n",
      "\u001b[1m100/100\u001b[0m \u001b[32m━━━━━━━━━━━━━━━━━━━━\u001b[0m\u001b[37m\u001b[0m \u001b[1m0s\u001b[0m 326ms/step - loss: 3.3082 - masked_acc: 0.4098\n",
      "\n",
      "a man is riding a wave on a wave\n",
      "a man is riding a wave next to a surfboard\n",
      "a man does a surfboard in the green bushes\n",
      "\n",
      "\u001b[1m100/100\u001b[0m \u001b[32m━━━━━━━━━━━━━━━━━━━━\u001b[0m\u001b[37m\u001b[0m \u001b[1m44s\u001b[0m 444ms/step - loss: 3.3080 - masked_acc: 0.4098 - val_loss: 3.2361 - val_masked_acc: 0.4105\n",
      "Epoch 9/100\n",
      "\u001b[1m100/100\u001b[0m \u001b[32m━━━━━━━━━━━━━━━━━━━━\u001b[0m\u001b[37m\u001b[0m \u001b[1m0s\u001b[0m 340ms/step - loss: 3.2252 - masked_acc: 0.4146\n",
      "\n",
      "a man in a surfboard in a wave\n",
      "a surfer surfing on a wave in the ocean\n",
      "a boat is sitting on top of a boat\n",
      "\n",
      "\u001b[1m100/100\u001b[0m \u001b[32m━━━━━━━━━━━━━━━━━━━━\u001b[0m\u001b[37m\u001b[0m \u001b[1m45s\u001b[0m 449ms/step - loss: 3.2252 - masked_acc: 0.4146 - val_loss: 3.2103 - val_masked_acc: 0.4147\n",
      "Epoch 10/100\n",
      "\u001b[1m100/100\u001b[0m \u001b[32m━━━━━━━━━━━━━━━━━━━━\u001b[0m\u001b[37m\u001b[0m \u001b[1m0s\u001b[0m 336ms/step - loss: 3.1735 - masked_acc: 0.4175\n",
      "\n",
      "a man riding a surfboard on a wave\n",
      "a surfer in a surfboard in the water\n",
      "a man walking through the water while surfing\n",
      "\n",
      "\u001b[1m100/100\u001b[0m \u001b[32m━━━━━━━━━━━━━━━━━━━━\u001b[0m\u001b[37m\u001b[0m \u001b[1m44s\u001b[0m 444ms/step - loss: 3.1733 - masked_acc: 0.4175 - val_loss: 3.1312 - val_masked_acc: 0.4211\n",
      "Epoch 11/100\n",
      "\u001b[1m100/100\u001b[0m \u001b[32m━━━━━━━━━━━━━━━━━━━━\u001b[0m\u001b[37m\u001b[0m \u001b[1m0s\u001b[0m 339ms/step - loss: 3.1247 - masked_acc: 0.4238\n",
      "\n",
      "a man is riding a wave on a wave\n",
      "a person is on a wave with a wave\n",
      "a child is wearing a small bus with skis\n",
      "\n",
      "\u001b[1m100/100\u001b[0m \u001b[32m━━━━━━━━━━━━━━━━━━━━\u001b[0m\u001b[37m\u001b[0m \u001b[1m44s\u001b[0m 447ms/step - loss: 3.1245 - masked_acc: 0.4238 - val_loss: 3.0830 - val_masked_acc: 0.4247\n",
      "Epoch 12/100\n",
      "\u001b[1m100/100\u001b[0m \u001b[32m━━━━━━━━━━━━━━━━━━━━\u001b[0m\u001b[37m\u001b[0m \u001b[1m0s\u001b[0m 344ms/step - loss: 3.0855 - masked_acc: 0.4261\n",
      "\n",
      "a man is riding a wave on a wave\n",
      "a surfer is on a surfboard in the ocean\n",
      "a man on a surfboard at the ocean water meter\n",
      "\n",
      "\u001b[1m100/100\u001b[0m \u001b[32m━━━━━━━━━━━━━━━━━━━━\u001b[0m\u001b[37m\u001b[0m \u001b[1m45s\u001b[0m 453ms/step - loss: 3.0854 - masked_acc: 0.4261 - val_loss: 3.0497 - val_masked_acc: 0.4276\n",
      "Epoch 13/100\n",
      "\u001b[1m100/100\u001b[0m \u001b[32m━━━━━━━━━━━━━━━━━━━━\u001b[0m\u001b[37m\u001b[0m \u001b[1m0s\u001b[0m 331ms/step - loss: 3.0366 - masked_acc: 0.4297\n",
      "\n",
      "a man in a white shirt is riding a wave\n",
      "a person is on a surfboard in the ocean\n",
      "a surfer riding a wave on a in a surfboard\n",
      "\n",
      "\u001b[1m100/100\u001b[0m \u001b[32m━━━━━━━━━━━━━━━━━━━━\u001b[0m\u001b[37m\u001b[0m \u001b[1m44s\u001b[0m 441ms/step - loss: 3.0365 - masked_acc: 0.4297 - val_loss: 3.0417 - val_masked_acc: 0.4283\n",
      "Epoch 14/100\n",
      "\u001b[1m100/100\u001b[0m \u001b[32m━━━━━━━━━━━━━━━━━━━━\u001b[0m\u001b[37m\u001b[0m \u001b[1m0s\u001b[0m 329ms/step - loss: 3.0127 - masked_acc: 0.4327\n",
      "\n",
      "a man in a white shirt is surfing on a wave\n",
      "a man riding a wave on a wave\n",
      "a return a surfer in the ocean on a surfboard\n",
      "\n",
      "\u001b[1m100/100\u001b[0m \u001b[32m━━━━━━━━━━━━━━━━━━━━\u001b[0m\u001b[37m\u001b[0m \u001b[1m46s\u001b[0m 462ms/step - loss: 3.0125 - masked_acc: 0.4327 - val_loss: 2.9702 - val_masked_acc: 0.4330\n",
      "Epoch 15/100\n",
      "\u001b[1m100/100\u001b[0m \u001b[32m━━━━━━━━━━━━━━━━━━━━\u001b[0m\u001b[37m\u001b[0m \u001b[1m0s\u001b[0m 329ms/step - loss: 2.9734 - masked_acc: 0.4351\n",
      "\n",
      "a man riding a surfboard on a surfboard\n",
      "a man riding a wave on a wave\n",
      "a man in a skiier surfing a wave in the ocean\n",
      "\n",
      "\u001b[1m100/100\u001b[0m \u001b[32m━━━━━━━━━━━━━━━━━━━━\u001b[0m\u001b[37m\u001b[0m \u001b[1m42s\u001b[0m 428ms/step - loss: 2.9733 - masked_acc: 0.4352 - val_loss: 2.9576 - val_masked_acc: 0.4336\n",
      "Epoch 16/100\n",
      "\u001b[1m100/100\u001b[0m \u001b[32m━━━━━━━━━━━━━━━━━━━━\u001b[0m\u001b[37m\u001b[0m \u001b[1m0s\u001b[0m 349ms/step - loss: 2.9401 - masked_acc: 0.4392\n",
      "\n",
      "a man riding a wave on a surfboard\n",
      "a person on a surfboard in the water\n",
      "two surfing each other facing in the ocean\n",
      "\n",
      "\u001b[1m100/100\u001b[0m \u001b[32m━━━━━━━━━━━━━━━━━━━━\u001b[0m\u001b[37m\u001b[0m \u001b[1m44s\u001b[0m 447ms/step - loss: 2.9400 - masked_acc: 0.4392 - val_loss: 2.9346 - val_masked_acc: 0.4377\n",
      "Epoch 17/100\n",
      "\u001b[1m100/100\u001b[0m \u001b[32m━━━━━━━━━━━━━━━━━━━━\u001b[0m\u001b[37m\u001b[0m \u001b[1m0s\u001b[0m 351ms/step - loss: 2.8990 - masked_acc: 0.4424\n",
      "\n",
      "a man in a white shirt is riding a wave\n",
      "a man riding a wave on top of a wave\n",
      "a surfer is jet in the ocean with his arm in the ocean\n",
      "\n",
      "\u001b[1m100/100\u001b[0m \u001b[32m━━━━━━━━━━━━━━━━━━━━\u001b[0m\u001b[37m\u001b[0m \u001b[1m47s\u001b[0m 471ms/step - loss: 2.8988 - masked_acc: 0.4424 - val_loss: 2.9069 - val_masked_acc: 0.4399\n",
      "Epoch 18/100\n",
      "\u001b[1m100/100\u001b[0m \u001b[32m━━━━━━━━━━━━━━━━━━━━\u001b[0m\u001b[37m\u001b[0m \u001b[1m0s\u001b[0m 334ms/step - loss: 2.8637 - masked_acc: 0.4448\n",
      "\n",
      "a man in a wetsuit riding a wave\n",
      "a man on a surf board on the ocean\n",
      "a man jumping through a surfboard that is on a wave\n",
      "\n",
      "\u001b[1m100/100\u001b[0m \u001b[32m━━━━━━━━━━━━━━━━━━━━\u001b[0m\u001b[37m\u001b[0m \u001b[1m44s\u001b[0m 443ms/step - loss: 2.8636 - masked_acc: 0.4448 - val_loss: 2.8598 - val_masked_acc: 0.4444\n",
      "Epoch 19/100\n",
      "\u001b[1m100/100\u001b[0m \u001b[32m━━━━━━━━━━━━━━━━━━━━\u001b[0m\u001b[37m\u001b[0m \u001b[1m0s\u001b[0m 335ms/step - loss: 2.8776 - masked_acc: 0.4436\n",
      "\n",
      "a man in a wetsuit riding a wave\n",
      "a person on a surfboard riding a surfboard\n",
      "a man that is in a view of him\n",
      "\n",
      "\u001b[1m100/100\u001b[0m \u001b[32m━━━━━━━━━━━━━━━━━━━━\u001b[0m\u001b[37m\u001b[0m \u001b[1m44s\u001b[0m 443ms/step - loss: 2.8773 - masked_acc: 0.4437 - val_loss: 2.8142 - val_masked_acc: 0.4497\n",
      "Epoch 20/100\n",
      "\u001b[1m100/100\u001b[0m \u001b[32m━━━━━━━━━━━━━━━━━━━━\u001b[0m\u001b[37m\u001b[0m \u001b[1m0s\u001b[0m 332ms/step - loss: 2.8059 - masked_acc: 0.4527\n",
      "\n",
      "a man riding a surfboard on a surfboard\n",
      "a surfer is riding a wave on a surfboard\n",
      "a young man running in the blue shirt cheese holding his surf on a surfboard\n",
      "\n",
      "\u001b[1m100/100\u001b[0m \u001b[32m━━━━━━━━━━━━━━━━━━━━\u001b[0m\u001b[37m\u001b[0m \u001b[1m44s\u001b[0m 440ms/step - loss: 2.8060 - masked_acc: 0.4527 - val_loss: 2.8265 - val_masked_acc: 0.4500\n",
      "Epoch 21/100\n",
      "\u001b[1m100/100\u001b[0m \u001b[32m━━━━━━━━━━━━━━━━━━━━\u001b[0m\u001b[37m\u001b[0m \u001b[1m0s\u001b[0m 351ms/step - loss: 2.8152 - masked_acc: 0.4496\n",
      "\n",
      "a man riding a surfboard on a wave\n",
      "a man is riding a wave on a surfboard\n",
      "a dog is riding a wave running on a wave\n",
      "\n",
      "\u001b[1m100/100\u001b[0m \u001b[32m━━━━━━━━━━━━━━━━━━━━\u001b[0m\u001b[37m\u001b[0m \u001b[1m46s\u001b[0m 460ms/step - loss: 2.8151 - masked_acc: 0.4496 - val_loss: 2.8266 - val_masked_acc: 0.4474\n",
      "Epoch 22/100\n",
      "\u001b[1m100/100\u001b[0m \u001b[32m━━━━━━━━━━━━━━━━━━━━\u001b[0m\u001b[37m\u001b[0m \u001b[1m0s\u001b[0m 342ms/step - loss: 2.7992 - masked_acc: 0.4505\n",
      "\n",
      "a man in a wetsuit riding a wave\n",
      "a man surfing in the ocean with a surfboard\n",
      "a person in a wetsuit surfing on a wave next to a body of water\n",
      "\n",
      "\u001b[1m100/100\u001b[0m \u001b[32m━━━━━━━━━━━━━━━━━━━━\u001b[0m\u001b[37m\u001b[0m \u001b[1m46s\u001b[0m 463ms/step - loss: 2.7991 - masked_acc: 0.4505 - val_loss: 2.7848 - val_masked_acc: 0.4529\n",
      "Epoch 23/100\n",
      "\u001b[1m100/100\u001b[0m \u001b[32m━━━━━━━━━━━━━━━━━━━━\u001b[0m\u001b[37m\u001b[0m \u001b[1m0s\u001b[0m 334ms/step - loss: 2.7408 - masked_acc: 0.4594\n",
      "\n",
      "a man riding a wave on a surfboard\n",
      "a person in the ocean with a surfboard\n",
      "a man is surfing on a surfer surfing on a wave\n",
      "\n",
      "\u001b[1m100/100\u001b[0m \u001b[32m━━━━━━━━━━━━━━━━━━━━\u001b[0m\u001b[37m\u001b[0m \u001b[1m43s\u001b[0m 433ms/step - loss: 2.7409 - masked_acc: 0.4594 - val_loss: 2.7973 - val_masked_acc: 0.4493\n",
      "Epoch 24/100\n",
      "\u001b[1m100/100\u001b[0m \u001b[32m━━━━━━━━━━━━━━━━━━━━\u001b[0m\u001b[37m\u001b[0m \u001b[1m0s\u001b[0m 345ms/step - loss: 2.7496 - masked_acc: 0.4574\n",
      "\n",
      "a man riding a wave on a surfboard\n",
      "a person on a surfboard on a wave\n",
      "a man is surfing on a wave in the ocean\n",
      "\n",
      "\u001b[1m100/100\u001b[0m \u001b[32m━━━━━━━━━━━━━━━━━━━━\u001b[0m\u001b[37m\u001b[0m \u001b[1m45s\u001b[0m 454ms/step - loss: 2.7496 - masked_acc: 0.4575 - val_loss: 2.7340 - val_masked_acc: 0.4561\n",
      "Epoch 25/100\n",
      "\u001b[1m100/100\u001b[0m \u001b[32m━━━━━━━━━━━━━━━━━━━━\u001b[0m\u001b[37m\u001b[0m \u001b[1m0s\u001b[0m 336ms/step - loss: 2.7388 - masked_acc: 0.4560\n",
      "\n",
      "a man riding a wave on a surfboard\n",
      "a man is riding a wave in the ocean\n",
      "to a surfer riding a wave\n",
      "\n",
      "\u001b[1m100/100\u001b[0m \u001b[32m━━━━━━━━━━━━━━━━━━━━\u001b[0m\u001b[37m\u001b[0m \u001b[1m45s\u001b[0m 453ms/step - loss: 2.7387 - masked_acc: 0.4560 - val_loss: 2.7403 - val_masked_acc: 0.4584\n",
      "Epoch 26/100\n",
      "\u001b[1m100/100\u001b[0m \u001b[32m━━━━━━━━━━━━━━━━━━━━\u001b[0m\u001b[37m\u001b[0m \u001b[1m0s\u001b[0m 334ms/step - loss: 2.7224 - masked_acc: 0.4582\n",
      "\n",
      "a man in a wetsuit riding a wave on a surfboard\n",
      "a surfer riding a wave on a surfboard\n",
      "a surfer and a bird on a surf board\n",
      "\n",
      "\u001b[1m100/100\u001b[0m \u001b[32m━━━━━━━━━━━━━━━━━━━━\u001b[0m\u001b[37m\u001b[0m \u001b[1m44s\u001b[0m 442ms/step - loss: 2.7223 - masked_acc: 0.4582 - val_loss: 2.7793 - val_masked_acc: 0.4503\n",
      "Epoch 27/100\n",
      "\u001b[1m100/100\u001b[0m \u001b[32m━━━━━━━━━━━━━━━━━━━━\u001b[0m\u001b[37m\u001b[0m \u001b[1m0s\u001b[0m 330ms/step - loss: 2.7225 - masked_acc: 0.4563\n",
      "\n",
      "a man riding a surfboard on a wave\n",
      "a surfer in a wet suit in the ocean\n",
      "a man in top of a small wetsuit walks bird\n",
      "\n",
      "\u001b[1m100/100\u001b[0m \u001b[32m━━━━━━━━━━━━━━━━━━━━\u001b[0m\u001b[37m\u001b[0m \u001b[1m43s\u001b[0m 438ms/step - loss: 2.7224 - masked_acc: 0.4564 - val_loss: 2.7237 - val_masked_acc: 0.4563\n",
      "Epoch 28/100\n",
      "\u001b[1m100/100\u001b[0m \u001b[32m━━━━━━━━━━━━━━━━━━━━\u001b[0m\u001b[37m\u001b[0m \u001b[1m0s\u001b[0m 340ms/step - loss: 2.6926 - masked_acc: 0.4603\n",
      "\n",
      "a man in a wetsuit riding a wave on a surfboard\n",
      "a person on a surfboard in the ocean\n",
      "a surfer on the surf board yellow has a tag in the ocean\n",
      "\n",
      "\u001b[1m100/100\u001b[0m \u001b[32m━━━━━━━━━━━━━━━━━━━━\u001b[0m\u001b[37m\u001b[0m \u001b[1m46s\u001b[0m 459ms/step - loss: 2.6926 - masked_acc: 0.4603 - val_loss: 2.6854 - val_masked_acc: 0.4625\n",
      "Epoch 29/100\n",
      "\u001b[1m100/100\u001b[0m \u001b[32m━━━━━━━━━━━━━━━━━━━━\u001b[0m\u001b[37m\u001b[0m \u001b[1m0s\u001b[0m 332ms/step - loss: 2.6854 - masked_acc: 0.4611\n",
      "\n",
      "a man is surfing on a wave in the ocean\n",
      "a man in a wetsuit riding a surf board\n",
      "a man in white hat riding a half of a surf board\n",
      "\n",
      "\u001b[1m100/100\u001b[0m \u001b[32m━━━━━━━━━━━━━━━━━━━━\u001b[0m\u001b[37m\u001b[0m \u001b[1m43s\u001b[0m 438ms/step - loss: 2.6853 - masked_acc: 0.4611 - val_loss: 2.6967 - val_masked_acc: 0.4588\n",
      "Epoch 30/100\n",
      "\u001b[1m100/100\u001b[0m \u001b[32m━━━━━━━━━━━━━━━━━━━━\u001b[0m\u001b[37m\u001b[0m \u001b[1m0s\u001b[0m 340ms/step - loss: 2.6661 - masked_acc: 0.4645\n",
      "\n",
      "a man riding a wave on top of a surfboard\n",
      "a person on a surfboard riding a wave\n",
      "a wave and red blue knee put out on top of a wave\n",
      "\n",
      "\u001b[1m100/100\u001b[0m \u001b[32m━━━━━━━━━━━━━━━━━━━━\u001b[0m\u001b[37m\u001b[0m \u001b[1m45s\u001b[0m 451ms/step - loss: 2.6660 - masked_acc: 0.4645 - val_loss: 2.6862 - val_masked_acc: 0.4586\n",
      "Epoch 31/100\n",
      "\u001b[1m100/100\u001b[0m \u001b[32m━━━━━━━━━━━━━━━━━━━━\u001b[0m\u001b[37m\u001b[0m \u001b[1m0s\u001b[0m 330ms/step - loss: 2.6472 - masked_acc: 0.4629\n",
      "\n",
      "a man in a wetsuit riding a wave on a surfboard\n",
      "a surfer is riding a wave on a surfboard\n",
      "a man on a surf board wearing a white shoes laying in the wooden hand\n",
      "\n",
      "\u001b[1m100/100\u001b[0m \u001b[32m━━━━━━━━━━━━━━━━━━━━\u001b[0m\u001b[37m\u001b[0m \u001b[1m45s\u001b[0m 450ms/step - loss: 2.6471 - masked_acc: 0.4630 - val_loss: 2.6644 - val_masked_acc: 0.4602\n",
      "Epoch 32/100\n",
      "\u001b[1m100/100\u001b[0m \u001b[32m━━━━━━━━━━━━━━━━━━━━\u001b[0m\u001b[37m\u001b[0m \u001b[1m0s\u001b[0m 334ms/step - loss: 2.6629 - masked_acc: 0.4641\n",
      "\n",
      "a man in a wetsuit riding a wave on a surfboard\n",
      "a person riding a wave in the ocean\n",
      "a surfboard moves in the ocean on the flowered board\n",
      "\n",
      "\u001b[1m100/100\u001b[0m \u001b[32m━━━━━━━━━━━━━━━━━━━━\u001b[0m\u001b[37m\u001b[0m \u001b[1m43s\u001b[0m 436ms/step - loss: 2.6628 - masked_acc: 0.4641 - val_loss: 2.6500 - val_masked_acc: 0.4654\n",
      "Epoch 33/100\n",
      "\u001b[1m100/100\u001b[0m \u001b[32m━━━━━━━━━━━━━━━━━━━━\u001b[0m\u001b[37m\u001b[0m \u001b[1m0s\u001b[0m 338ms/step - loss: 2.6153 - masked_acc: 0.4674\n",
      "\n",
      "a man riding a surfboard on a wave\n",
      "a man riding a surfboard on a surfboard\n",
      "woman hitting a in surf cheeks spilled favorite after his shoulder in the body of the sea\n",
      "\n",
      "\u001b[1m100/100\u001b[0m \u001b[32m━━━━━━━━━━━━━━━━━━━━\u001b[0m\u001b[37m\u001b[0m \u001b[1m44s\u001b[0m 448ms/step - loss: 2.6154 - masked_acc: 0.4674 - val_loss: 2.6320 - val_masked_acc: 0.4679\n",
      "Epoch 34/100\n",
      "\u001b[1m100/100\u001b[0m \u001b[32m━━━━━━━━━━━━━━━━━━━━\u001b[0m\u001b[37m\u001b[0m \u001b[1m0s\u001b[0m 336ms/step - loss: 2.5893 - masked_acc: 0.4734\n",
      "\n",
      "a man riding a surfboard on a wave\n",
      "a man riding a wave on a surfboard\n",
      "a surfer on surfing next to a wave\n",
      "\n",
      "\u001b[1m100/100\u001b[0m \u001b[32m━━━━━━━━━━━━━━━━━━━━\u001b[0m\u001b[37m\u001b[0m \u001b[1m44s\u001b[0m 442ms/step - loss: 2.5893 - masked_acc: 0.4733 - val_loss: 2.6228 - val_masked_acc: 0.4665\n",
      "Epoch 35/100\n",
      "\u001b[1m100/100\u001b[0m \u001b[32m━━━━━━━━━━━━━━━━━━━━\u001b[0m\u001b[37m\u001b[0m \u001b[1m0s\u001b[0m 349ms/step - loss: 2.5988 - masked_acc: 0.4704\n",
      "\n",
      "a man riding a surfboard on a wave\n",
      "a person in a wetsuit surfing in the ocean\n",
      "a man riding a surfboard on a water board\n",
      "\n",
      "\u001b[1m100/100\u001b[0m \u001b[32m━━━━━━━━━━━━━━━━━━━━\u001b[0m\u001b[37m\u001b[0m \u001b[1m44s\u001b[0m 447ms/step - loss: 2.5988 - masked_acc: 0.4704 - val_loss: 2.6506 - val_masked_acc: 0.4625\n",
      "Epoch 36/100\n",
      "\u001b[1m100/100\u001b[0m \u001b[32m━━━━━━━━━━━━━━━━━━━━\u001b[0m\u001b[37m\u001b[0m \u001b[1m0s\u001b[0m 354ms/step - loss: 2.5759 - masked_acc: 0.4709\n",
      "\n",
      "a man in a wetsuit riding a surfboard on a wave\n",
      "a man in a red wetsuit riding a surfboard\n",
      "a man without a scarf in the ocean a wet low full wave in a black jacket\n",
      "\n",
      "\u001b[1m100/100\u001b[0m \u001b[32m━━━━━━━━━━━━━━━━━━━━\u001b[0m\u001b[37m\u001b[0m \u001b[1m46s\u001b[0m 466ms/step - loss: 2.5758 - masked_acc: 0.4709 - val_loss: 2.6258 - val_masked_acc: 0.4669\n",
      "Epoch 37/100\n",
      "\u001b[1m100/100\u001b[0m \u001b[32m━━━━━━━━━━━━━━━━━━━━\u001b[0m\u001b[37m\u001b[0m \u001b[1m0s\u001b[0m 331ms/step - loss: 2.5839 - masked_acc: 0.4709\n",
      "\n",
      "a man riding a surfboard on top of a wave\n",
      "a surfer in a wetsuit riding a wave\n",
      "a man on a waves in the ocean waves\n",
      "\n",
      "\u001b[1m100/100\u001b[0m \u001b[32m━━━━━━━━━━━━━━━━━━━━\u001b[0m\u001b[37m\u001b[0m \u001b[1m46s\u001b[0m 466ms/step - loss: 2.5838 - masked_acc: 0.4709 - val_loss: 2.6028 - val_masked_acc: 0.4694\n",
      "Epoch 38/100\n",
      "\u001b[1m100/100\u001b[0m \u001b[32m━━━━━━━━━━━━━━━━━━━━\u001b[0m\u001b[37m\u001b[0m \u001b[1m0s\u001b[0m 320ms/step - loss: 2.5799 - masked_acc: 0.4710\n",
      "\n",
      "a surfer in the ocean with a surfboard\n",
      "a surfer is riding a wave into the ocean\n",
      "a person on a surfboard riding a wave\n",
      "\n",
      "\u001b[1m100/100\u001b[0m \u001b[32m━━━━━━━━━━━━━━━━━━━━\u001b[0m\u001b[37m\u001b[0m \u001b[1m41s\u001b[0m 417ms/step - loss: 2.5798 - masked_acc: 0.4710 - val_loss: 2.6119 - val_masked_acc: 0.4690\n",
      "Epoch 39/100\n",
      "\u001b[1m100/100\u001b[0m \u001b[32m━━━━━━━━━━━━━━━━━━━━\u001b[0m\u001b[37m\u001b[0m \u001b[1m0s\u001b[0m 349ms/step - loss: 2.5444 - masked_acc: 0.4763\n",
      "\n",
      "a man riding a surfboard on top of a wave\n",
      "a man riding a surfboard on top of a wave\n",
      "a surfer his head very large skiing down a sunny day\n",
      "\n",
      "\u001b[1m100/100\u001b[0m \u001b[32m━━━━━━━━━━━━━━━━━━━━\u001b[0m\u001b[37m\u001b[0m \u001b[1m45s\u001b[0m 458ms/step - loss: 2.5445 - masked_acc: 0.4763 - val_loss: 2.6471 - val_masked_acc: 0.4616\n",
      "Epoch 40/100\n",
      "\u001b[1m100/100\u001b[0m \u001b[32m━━━━━━━━━━━━━━━━━━━━\u001b[0m\u001b[37m\u001b[0m \u001b[1m0s\u001b[0m 336ms/step - loss: 2.5418 - masked_acc: 0.4758\n",
      "\n",
      "a man in a wetsuit surfing on a wave\n",
      "a man riding a wave on top of a surfboard\n",
      "a rope fork holder on a small white surfboard\n",
      "\n",
      "\u001b[1m100/100\u001b[0m \u001b[32m━━━━━━━━━━━━━━━━━━━━\u001b[0m\u001b[37m\u001b[0m \u001b[1m44s\u001b[0m 445ms/step - loss: 2.5417 - masked_acc: 0.4758 - val_loss: 2.6165 - val_masked_acc: 0.4665\n",
      "Epoch 41/100\n",
      "\u001b[1m100/100\u001b[0m \u001b[32m━━━━━━━━━━━━━━━━━━━━\u001b[0m\u001b[37m\u001b[0m \u001b[1m0s\u001b[0m 350ms/step - loss: 2.5460 - masked_acc: 0.4732\n",
      "\n",
      "a man in a red shirt riding a wave\n",
      "a person on a surf board is in the ocean\n",
      "a man with a surfboard balances painting on a boogie board\n",
      "\n",
      "\u001b[1m100/100\u001b[0m \u001b[32m━━━━━━━━━━━━━━━━━━━━\u001b[0m\u001b[37m\u001b[0m \u001b[1m47s\u001b[0m 472ms/step - loss: 2.5460 - masked_acc: 0.4732 - val_loss: 2.5938 - val_masked_acc: 0.4695\n",
      "Epoch 42/100\n",
      "\u001b[1m100/100\u001b[0m \u001b[32m━━━━━━━━━━━━━━━━━━━━\u001b[0m\u001b[37m\u001b[0m \u001b[1m0s\u001b[0m 327ms/step - loss: 2.5282 - masked_acc: 0.4768\n",
      "\n",
      "a man riding a wave on top of a surfboard\n",
      "a surfer in the ocean with a large white surfboard\n",
      "a person is stands with a large white surf board\n",
      "\n",
      "\u001b[1m100/100\u001b[0m \u001b[32m━━━━━━━━━━━━━━━━━━━━\u001b[0m\u001b[37m\u001b[0m \u001b[1m43s\u001b[0m 436ms/step - loss: 2.5282 - masked_acc: 0.4768 - val_loss: 2.6060 - val_masked_acc: 0.4673\n",
      "Epoch 43/100\n",
      "\u001b[1m100/100\u001b[0m \u001b[32m━━━━━━━━━━━━━━━━━━━━\u001b[0m\u001b[37m\u001b[0m \u001b[1m0s\u001b[0m 333ms/step - loss: 2.5498 - masked_acc: 0.4727\n",
      "\n",
      "a surfer in a wetsuit riding a wave\n",
      "a man riding a surf board on top of a wave\n",
      "a surfer is riding a wave in the water\n",
      "\n",
      "\u001b[1m100/100\u001b[0m \u001b[32m━━━━━━━━━━━━━━━━━━━━\u001b[0m\u001b[37m\u001b[0m \u001b[1m45s\u001b[0m 452ms/step - loss: 2.5498 - masked_acc: 0.4727 - val_loss: 2.5814 - val_masked_acc: 0.4691\n",
      "Epoch 44/100\n",
      "\u001b[1m100/100\u001b[0m \u001b[32m━━━━━━━━━━━━━━━━━━━━\u001b[0m\u001b[37m\u001b[0m \u001b[1m0s\u001b[0m 330ms/step - loss: 2.5260 - masked_acc: 0.4743\n",
      "\n",
      "a man in a wetsuit riding a wave\n",
      "a man in a wet suit surfing on a wave\n",
      "a surfer in a wetsuit riding a surf board\n",
      "\n",
      "\u001b[1m100/100\u001b[0m \u001b[32m━━━━━━━━━━━━━━━━━━━━\u001b[0m\u001b[37m\u001b[0m \u001b[1m42s\u001b[0m 426ms/step - loss: 2.5260 - masked_acc: 0.4743 - val_loss: 2.5726 - val_masked_acc: 0.4695\n",
      "Epoch 45/100\n",
      "\u001b[1m100/100\u001b[0m \u001b[32m━━━━━━━━━━━━━━━━━━━━\u001b[0m\u001b[37m\u001b[0m \u001b[1m0s\u001b[0m 346ms/step - loss: 2.5383 - masked_acc: 0.4741\n",
      "\n",
      "a man riding a surfboard on top of a wave\n",
      "a man on a surfboard in the ocean\n",
      "a man surfing while wearing a blue board and white shirt rides a surfboard\n",
      "\n",
      "\u001b[1m100/100\u001b[0m \u001b[32m━━━━━━━━━━━━━━━━━━━━\u001b[0m\u001b[37m\u001b[0m \u001b[1m45s\u001b[0m 458ms/step - loss: 2.5381 - masked_acc: 0.4741 - val_loss: 2.5669 - val_masked_acc: 0.4681\n",
      "Epoch 46/100\n",
      "\u001b[1m100/100\u001b[0m \u001b[32m━━━━━━━━━━━━━━━━━━━━\u001b[0m\u001b[37m\u001b[0m \u001b[1m0s\u001b[0m 333ms/step - loss: 2.5097 - masked_acc: 0.4784\n",
      "\n",
      "a man riding a surfboard on a wave\n",
      "a person surfing in the water on a surfboard\n",
      "a surfer riding a red board on a wave in the distance\n",
      "\n",
      "\u001b[1m100/100\u001b[0m \u001b[32m━━━━━━━━━━━━━━━━━━━━\u001b[0m\u001b[37m\u001b[0m \u001b[1m46s\u001b[0m 465ms/step - loss: 2.5098 - masked_acc: 0.4784 - val_loss: 2.5564 - val_masked_acc: 0.4718\n",
      "Epoch 47/100\n",
      "\u001b[1m100/100\u001b[0m \u001b[32m━━━━━━━━━━━━━━━━━━━━\u001b[0m\u001b[37m\u001b[0m \u001b[1m0s\u001b[0m 328ms/step - loss: 2.5038 - masked_acc: 0.4785\n",
      "\n",
      "a man riding a surfboard on a wave\n",
      "a man riding a wave on top of a surfboard\n",
      "a man surfing on a wave in his wet suit\n",
      "\n",
      "\u001b[1m100/100\u001b[0m \u001b[32m━━━━━━━━━━━━━━━━━━━━\u001b[0m\u001b[37m\u001b[0m \u001b[1m43s\u001b[0m 438ms/step - loss: 2.5039 - masked_acc: 0.4785 - val_loss: 2.5426 - val_masked_acc: 0.4746\n",
      "Epoch 48/100\n",
      "\u001b[1m100/100\u001b[0m \u001b[32m━━━━━━━━━━━━━━━━━━━━\u001b[0m\u001b[37m\u001b[0m \u001b[1m0s\u001b[0m 337ms/step - loss: 2.5195 - masked_acc: 0.4763\n",
      "\n",
      "a man riding a wave on top of a surfboard\n",
      "a man in a wetsuit surfing on a wave\n",
      "a man in green jacket riding a yellow surfboard above a body and a blue umbrella\n",
      "\n",
      "\u001b[1m100/100\u001b[0m \u001b[32m━━━━━━━━━━━━━━━━━━━━\u001b[0m\u001b[37m\u001b[0m \u001b[1m44s\u001b[0m 448ms/step - loss: 2.5195 - masked_acc: 0.4763 - val_loss: 2.5214 - val_masked_acc: 0.4761\n",
      "Epoch 49/100\n",
      "\u001b[1m100/100\u001b[0m \u001b[32m━━━━━━━━━━━━━━━━━━━━\u001b[0m\u001b[37m\u001b[0m \u001b[1m0s\u001b[0m 336ms/step - loss: 2.4833 - masked_acc: 0.4807\n",
      "\n",
      "a man riding a surfboard on a wave\n",
      "a person riding a surf board in the ocean\n",
      "a surfer rides a wave in his bathing suit\n",
      "\n",
      "\u001b[1m100/100\u001b[0m \u001b[32m━━━━━━━━━━━━━━━━━━━━\u001b[0m\u001b[37m\u001b[0m \u001b[1m44s\u001b[0m 444ms/step - loss: 2.4833 - masked_acc: 0.4807 - val_loss: 2.5172 - val_masked_acc: 0.4757\n",
      "Epoch 50/100\n",
      "\u001b[1m100/100\u001b[0m \u001b[32m━━━━━━━━━━━━━━━━━━━━\u001b[0m\u001b[37m\u001b[0m \u001b[1m0s\u001b[0m 350ms/step - loss: 2.4610 - masked_acc: 0.4852\n",
      "\n",
      "a man riding a wave on top of a surfboard\n",
      "a surfer in a red and blue wet suit is riding a wave\n",
      "a man large next to a choppy water surfer\n",
      "\n",
      "\u001b[1m100/100\u001b[0m \u001b[32m━━━━━━━━━━━━━━━━━━━━\u001b[0m\u001b[37m\u001b[0m \u001b[1m47s\u001b[0m 475ms/step - loss: 2.4611 - masked_acc: 0.4851 - val_loss: 2.5451 - val_masked_acc: 0.4734\n",
      "Epoch 51/100\n",
      "\u001b[1m100/100\u001b[0m \u001b[32m━━━━━━━━━━━━━━━━━━━━\u001b[0m\u001b[37m\u001b[0m \u001b[1m0s\u001b[0m 319ms/step - loss: 2.4651 - masked_acc: 0.4820\n",
      "\n",
      "a man riding a wave on top of a surfboard\n",
      "a surfer riding a wave on top of a wave\n",
      "a man riding the waves on the top of a surfboard\n",
      "\n",
      "\u001b[1m100/100\u001b[0m \u001b[32m━━━━━━━━━━━━━━━━━━━━\u001b[0m\u001b[37m\u001b[0m \u001b[1m43s\u001b[0m 430ms/step - loss: 2.4651 - masked_acc: 0.4820 - val_loss: 2.5381 - val_masked_acc: 0.4726\n",
      "Epoch 52/100\n",
      "\u001b[1m100/100\u001b[0m \u001b[32m━━━━━━━━━━━━━━━━━━━━\u001b[0m\u001b[37m\u001b[0m \u001b[1m0s\u001b[0m 333ms/step - loss: 2.4479 - masked_acc: 0.4839\n",
      "\n",
      "a man riding a surfboard on a wave in the ocean\n",
      "a man riding a surfboard on top of a wave\n",
      "man surfing waves on the phone on shore\n",
      "\n",
      "\u001b[1m100/100\u001b[0m \u001b[32m━━━━━━━━━━━━━━━━━━━━\u001b[0m\u001b[37m\u001b[0m \u001b[1m45s\u001b[0m 451ms/step - loss: 2.4479 - masked_acc: 0.4839 - val_loss: 2.5327 - val_masked_acc: 0.4762\n",
      "Epoch 53/100\n",
      "\u001b[1m100/100\u001b[0m \u001b[32m━━━━━━━━━━━━━━━━━━━━\u001b[0m\u001b[37m\u001b[0m \u001b[1m0s\u001b[0m 341ms/step - loss: 2.4585 - masked_acc: 0.4839\n",
      "\n",
      "a man riding a wave on a surfboard in the ocean\n",
      "a man is surfing in the ocean with a surf board\n",
      "a surfer in a big wetsuit is riding a small pink wave\n",
      "\n",
      "\u001b[1m100/100\u001b[0m \u001b[32m━━━━━━━━━━━━━━━━━━━━\u001b[0m\u001b[37m\u001b[0m \u001b[1m45s\u001b[0m 452ms/step - loss: 2.4585 - masked_acc: 0.4839 - val_loss: 2.5445 - val_masked_acc: 0.4726\n",
      "Epoch 54/100\n",
      "\u001b[1m100/100\u001b[0m \u001b[32m━━━━━━━━━━━━━━━━━━━━\u001b[0m\u001b[37m\u001b[0m \u001b[1m0s\u001b[0m 336ms/step - loss: 2.4400 - masked_acc: 0.4853\n",
      "\n",
      "a man riding a surfboard on a wave in the ocean\n",
      "a male surfer is riding a wave in the ocean\n",
      "a man riding a surfboard on a wave surfing board\n",
      "\n",
      "\u001b[1m100/100\u001b[0m \u001b[32m━━━━━━━━━━━━━━━━━━━━\u001b[0m\u001b[37m\u001b[0m \u001b[1m43s\u001b[0m 437ms/step - loss: 2.4401 - masked_acc: 0.4853 - val_loss: 2.5775 - val_masked_acc: 0.4696\n"
     ]
    }
   ],
   "source": [
    "history = model.fit(\n",
    "    train_ds.repeat(),\n",
    "    steps_per_epoch=100,\n",
    "    validation_data=val_ds.repeat(),\n",
    "    validation_steps=20,\n",
    "    epochs=100,\n",
    "    callbacks=callbacks\n",
    ")"
   ]
  },
  {
   "cell_type": "code",
   "execution_count": 191,
   "metadata": {},
   "outputs": [
    {
     "data": {
      "text/plain": [
       "<matplotlib.legend.Legend at 0x7f7a387ee950>"
      ]
     },
     "execution_count": 191,
     "metadata": {},
     "output_type": "execute_result"
    },
    {
     "data": {
      "image/png": "[encoded data removed]",
      "text/plain": [
       "<Figure size 640x480 with 1 Axes>"
      ]
     },
     "metadata": {},
     "output_type": "display_data"
    }
   ],
   "source": [
    "# Plotting\n",
    "plt.plot(history.history['loss'], label='loss')\n",
    "plt.plot(history.history['val_loss'], label='val_loss')\n",
    "plt.ylim([0, max(plt.ylim())])\n",
    "plt.xlabel('Epoch #')\n",
    "plt.ylabel('CE/token')\n",
    "plt.legend()\n",
    "\n",
    "plt.plot(history.history['masked_acc'], label='accuracy')\n",
    "plt.plot(history.history['val_masked_acc'], label='val_accuracy')\n",
    "plt.ylim([0, max(plt.ylim())])\n",
    "plt.xlabel('Epoch #')\n",
    "plt.ylabel('CE/token')\n",
    "plt.legend()\n",
    "\n"
   ]
  },
  {
   "cell_type": "code",
   "execution_count": null,
   "metadata": {},
   "outputs": [],
   "source": [
    "result = model.simple_gen(image, temperature=0.0)\n",
    "result"
   ]
  },
  {
   "cell_type": "code",
   "execution_count": null,
   "metadata": {},
   "outputs": [],
   "source": [
    "str_tokens = result.split()\n",
    "str_tokens.append('[END]')"
   ]
  },
  {
   "cell_type": "code",
   "execution_count": null,
   "metadata": {},
   "outputs": [],
   "source": [
    "attn_maps = [layer.last_attention_scores for layer in model.decoder_layers]\n",
    "[map.shape for map in attn_maps]"
   ]
  },
  {
   "cell_type": "code",
   "execution_count": null,
   "metadata": {},
   "outputs": [],
   "source": [
    "attention_maps = tf.concat(attn_maps, axis=0)\n",
    "attention_maps = einops.reduce(\n",
    "    attention_maps,\n",
    "    'batch heads sequence (height width) -> sequence height width',\n",
    "    height=7, width=7,\n",
    "    reduction='mean')"
   ]
  },
  {
   "cell_type": "markdown",
   "metadata": {},
   "source": [
    "einops.reduce(attention_maps, 'sequence height width -> sequence', reduction='sum')"
   ]
  },
  {
   "cell_type": "code",
   "execution_count": null,
   "metadata": {},
   "outputs": [],
   "source": [
    "def plot_attention_maps(image, str_tokens, attention_map):\n",
    "    fig = plt.figure(figsize=(16, 9))\n",
    "\n",
    "    len_result = len(str_tokens)\n",
    "\n",
    "    titles = []\n",
    "    for i in range(len_result):\n",
    "      map = attention_map[i]\n",
    "      grid_size = max(int(np.ceil(len_result/2)), 2)\n",
    "      ax = fig.add_subplot(3, grid_size, i+1)\n",
    "      titles.append(ax.set_title(str_tokens[i]))\n",
    "      img = ax.imshow(image)\n",
    "      ax.imshow(map, cmap='gray', alpha=0.6, extent=img.get_extent(),\n",
    "                clim=[0.0, np.max(map)])\n",
    "\n",
    "    plt.tight_layout()"
   ]
  },
  {
   "cell_type": "code",
   "execution_count": null,
   "metadata": {},
   "outputs": [],
   "source": [
    "plot_attention_maps(image/255, str_tokens, attention_maps)"
   ]
  },
  {
   "cell_type": "code",
   "execution_count": null,
   "metadata": {},
   "outputs": [],
   "source": [
    "@Captioner.add_method\n",
    "def run_and_show_attention(self, image, temperature=0.0):\n",
    "  result_txt = self.simple_gen(image, temperature)\n",
    "  str_tokens = result_txt.split()\n",
    "  str_tokens.append('[END]')\n",
    "\n",
    "  attention_maps = [layer.last_attention_scores for layer in self.decoder_layers]\n",
    "  attention_maps = tf.concat(attention_maps, axis=0)\n",
    "  attention_maps = einops.reduce(\n",
    "      attention_maps,\n",
    "      'batch heads sequence (height width) -> sequence height width',\n",
    "      height=7, width=7,\n",
    "      reduction='mean')\n",
    "\n",
    "  plot_attention_maps(image/255, str_tokens, attention_maps)\n",
    "  t = plt.suptitle(result_txt)\n",
    "  t.set_y(1.05)"
   ]
  },
  {
   "cell_type": "code",
   "execution_count": null,
   "metadata": {},
   "outputs": [],
   "source": [
    "run_and_show_attention(model, image)"
   ]
  },
  {
   "cell_type": "code",
   "execution_count": null,
   "metadata": {},
   "outputs": [],
   "source": [
    "image_url = 'https://tensorflow.org/images/bedroom_hrnet_tutorial.jpg'\n",
    "image_path = tf.keras.utils.get_file(origin=image_url)\n",
    "image = load_image(image_path)\n",
    "\n",
    "run_and_show_attention(model, image)"
   ]
  }
 ],
 "metadata": {
  "kernelspec": {
   "display_name": "imagecaption",
   "language": "python",
   "name": "python3"
  },
  "language_info": {
   "codemirror_mode": {
    "name": "ipython",
    "version": 3
   },
   "file_extension": ".py",
   "mimetype": "text/x-python",
   "name": "python",
   "nbconvert_exporter": "python",
   "pygments_lexer": "ipython3",
   "version": "3.10.16"
  }
 },
 "nbformat": 4,
 "nbformat_minor": 2
}
