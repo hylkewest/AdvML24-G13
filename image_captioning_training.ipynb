{
 "cells": [
  {
   "cell_type": "markdown",
   "metadata": {},
   "source": [
    "Code adapted from TensorFlow's \"Image captioning with visual attention\" article, specifically the \"A Transformer decoder model section.\n",
    "https://www.tensorflow.org/text/tutorials/image_captioning#a_transformer_decoder_model"
   ]
  },
  {
   "cell_type": "code",
   "execution_count": 219,
   "metadata": {},
   "outputs": [],
   "source": [
    "import importlib\n",
    "import string\n",
    "import re\n",
    "\n",
    "import keras_tuner as kt\n",
    "import matplotlib.pyplot as plt\n",
    "import numpy as np\n",
    "import tensorflow as tf\n",
    "\n",
    "from tensorflow.keras.applications import MobileNetV3Small\n",
    "from tensorflow.keras.callbacks import EarlyStopping\n",
    "from tensorflow.keras.layers import TextVectorization\n",
    "from tensorflow.keras.models import load_model\n",
    "from tensorflow.keras.optimizers import Adam, SGD, RMSprop\n",
    "from pycocotools.coco import COCO\n",
    "\n",
    "# So we don't have to reload the notebook each time a change is made to dataset.py or model.py\n",
    "import utils.model\n",
    "importlib.reload(utils.model)\n",
    "import utils.dataset\n",
    "importlib.reload(utils.dataset)\n",
    "\n",
    "from utils.model import TokenOutput, Captioner, GenerateText, SeqEmbedding, CausalSelfAttention, CrossAttention, FeedForward, DecoderLayer, standardize\n",
    "from utils.dataset import setup_trainval_sets, load_dataset, load_image"
   ]
  },
  {
   "cell_type": "code",
   "execution_count": 220,
   "metadata": {},
   "outputs": [],
   "source": [
    "np.random.seed(42)\n",
    "tf.random.set_seed(42)"
   ]
  },
  {
   "cell_type": "code",
   "execution_count": 46,
   "metadata": {},
   "outputs": [],
   "source": [
    "# Constants for notebook\n",
    "TRAIN_DATASET_PATH = \"./processed_dataset/train2014_full\"\n",
    "VAL_DATASET_PATH = \"./processed_dataset/val2014_full\"\n",
    "TRAIN_ANNOTATIONS_PATH = \"dataset/annotations_trainval2014/captions_train2014.json\"\n",
    "VAL_ANNOTATIONS_PATH = \"dataset/annotations_trainval2014/captions_val2014.json\"\n",
    "\n",
    "BATCH_SIZE = 256\n",
    "VOCABULARY_SIZE = 10000\n",
    "IMAGE_SHAPE = (224, 224, 3)"
   ]
  },
  {
   "cell_type": "code",
   "execution_count": 47,
   "metadata": {},
   "outputs": [
    {
     "name": "stdout",
     "output_type": "stream",
     "text": [
      "loading annotations into memory...\n",
      "Done (t=0.68s)\n",
      "creating index...\n",
      "index created!\n"
     ]
    }
   ],
   "source": [
    "coco_train = COCO(TRAIN_ANNOTATIONS_PATH)"
   ]
  },
  {
   "cell_type": "code",
   "execution_count": 8,
   "metadata": {},
   "outputs": [
    {
     "name": "stderr",
     "output_type": "stream",
     "text": [
      "I0000 00:00:1737891738.182346     864 gpu_device.cc:2022] Created device /job:localhost/replica:0/task:0/device:GPU:0 with 21770 MB memory:  -> device: 0, name: NVIDIA GeForce RTX 3090, pci bus id: 0000:01:00.0, compute capability: 8.6\n"
     ]
    }
   ],
   "source": [
    "train_raw = setup_trainval_sets(\"train2014\", coco_train)"
   ]
  },
  {
   "cell_type": "code",
   "execution_count": 9,
   "metadata": {},
   "outputs": [
    {
     "name": "stdout",
     "output_type": "stream",
     "text": [
      "Image path: b'dataset/train2014/COCO_train2014_000000057870.jpg'\n",
      "Caption: b'A restaurant has modern wooden tables and chairs.'\n"
     ]
    },
    {
     "name": "stderr",
     "output_type": "stream",
     "text": [
      "2025-01-26 12:42:20.368559: I tensorflow/core/framework/local_rendezvous.cc:405] Local rendezvous is aborting with status: OUT_OF_RANGE: End of sequence\n"
     ]
    }
   ],
   "source": [
    "for ex_path, ex_caption in train_raw.take(1):\n",
    "    print(\"Image path:\", ex_path.numpy())\n",
    "    print(\"Caption:\", ex_caption.numpy())"
   ]
  },
  {
   "cell_type": "code",
   "execution_count": 10,
   "metadata": {},
   "outputs": [],
   "source": [
    "mobilenet = MobileNetV3Small(\n",
    "    input_shape=IMAGE_SHAPE,\n",
    "    include_top=False, # Exclude the classification head\n",
    "    weights='imagenet',\n",
    "    pooling=None,\n",
    ")\n",
    "\n",
    "mobilenet.trainable=False"
   ]
  },
  {
   "cell_type": "code",
   "execution_count": 63,
   "metadata": {},
   "outputs": [],
   "source": [
    "tokenizer = TextVectorization(\n",
    "  max_tokens=VOCABULARY_SIZE,\n",
    "  standardize=standardize,\n",
    "  output_sequence_length=50,\n",
    "  ragged=True\n",
    ")"
   ]
  },
  {
   "cell_type": "code",
   "execution_count": 64,
   "metadata": {},
   "outputs": [],
   "source": [
    "tokenizer.adapt(train_raw.map(lambda img_path, caption: caption).batch(1024))"
   ]
  },
  {
   "cell_type": "code",
   "execution_count": 65,
   "metadata": {},
   "outputs": [
    {
     "data": {
      "text/plain": [
       "['',\n",
       " '[UNK]',\n",
       " np.str_('a'),\n",
       " np.str_('[START]'),\n",
       " np.str_('[END]'),\n",
       " np.str_('on'),\n",
       " np.str_('of'),\n",
       " np.str_('the'),\n",
       " np.str_('in'),\n",
       " np.str_('with')]"
      ]
     },
     "execution_count": 65,
     "metadata": {},
     "output_type": "execute_result"
    }
   ],
   "source": [
    "tokenizer.get_vocabulary()[:10]"
   ]
  },
  {
   "cell_type": "code",
   "execution_count": 112,
   "metadata": {},
   "outputs": [
    {
     "data": {
      "text/plain": [
       "10000"
      ]
     },
     "execution_count": 112,
     "metadata": {},
     "output_type": "execute_result"
    }
   ],
   "source": [
    "tokenizer.vocabulary_size()"
   ]
  },
  {
   "cell_type": "code",
   "execution_count": 66,
   "metadata": {},
   "outputs": [
    {
     "data": {
      "text/plain": [
       "{'name': 'text_vectorization_2',\n",
       " 'trainable': True,\n",
       " 'dtype': {'module': 'keras',\n",
       "  'class_name': 'DTypePolicy',\n",
       "  'config': {'name': 'float32'},\n",
       "  'registered_name': None},\n",
       " 'max_tokens': 10000,\n",
       " 'standardize': <function utils.model.standardize(s)>,\n",
       " 'split': 'whitespace',\n",
       " 'ngrams': None,\n",
       " 'output_mode': 'int',\n",
       " 'output_sequence_length': 50,\n",
       " 'pad_to_max_tokens': False,\n",
       " 'sparse': False,\n",
       " 'ragged': True,\n",
       " 'vocabulary': None,\n",
       " 'idf_weights': None,\n",
       " 'encoding': 'utf-8',\n",
       " 'vocabulary_size': 10000}"
      ]
     },
     "execution_count": 66,
     "metadata": {},
     "output_type": "execute_result"
    }
   ],
   "source": [
    "tokenizer.get_config()"
   ]
  },
  {
   "cell_type": "code",
   "execution_count": 15,
   "metadata": {},
   "outputs": [
    {
     "data": {
      "text/plain": [
       "<TextVectorization name=text_vectorization, built=False>"
      ]
     },
     "execution_count": 15,
     "metadata": {},
     "output_type": "execute_result"
    }
   ],
   "source": [
    "tokenizer"
   ]
  },
  {
   "cell_type": "code",
   "execution_count": 16,
   "metadata": {},
   "outputs": [],
   "source": [
    "t = tokenizer([['a large wooden cat'], ['a table on a hill']])"
   ]
  },
  {
   "cell_type": "code",
   "execution_count": 67,
   "metadata": {},
   "outputs": [],
   "source": [
    "# Setting up data for training\n",
    "train_ds = load_dataset(TRAIN_DATASET_PATH)\n",
    "val_ds = load_dataset(VAL_DATASET_PATH)"
   ]
  },
  {
   "cell_type": "code",
   "execution_count": 68,
   "metadata": {},
   "outputs": [
    {
     "name": "stdout",
     "output_type": "stream",
     "text": [
      "(256, 7, 7, 576)\n",
      "(256, 22)\n",
      "(256, 22)\n",
      "tf.Tensor(\n",
      "[  3   2 633 272 117  58   9   2 873   0   0   0   0   0   0   0   0   0\n",
      "   0   0   0   0], shape=(22,), dtype=int64)\n",
      "tf.Tensor(\n",
      "[  2 633 272 117  58   9   2 873   4   0   0   0   0   0   0   0   0   0\n",
      "   0   0   0   0], shape=(22,), dtype=int64)\n",
      "tf.Tensor(\n",
      "[[[-2.35861585e-01 -0.00000000e+00  2.88518882e+00 ... -0.00000000e+00\n",
      "    3.71150875e+00 -0.00000000e+00]\n",
      "  [ 2.72211909e+00 -0.00000000e+00 -0.00000000e+00 ... -0.00000000e+00\n",
      "    3.00443935e+00 -0.00000000e+00]\n",
      "  [ 9.36598778e+00 -0.00000000e+00  6.09354615e-01 ... -0.00000000e+00\n",
      "    1.00399280e+00 -0.00000000e+00]\n",
      "  ...\n",
      "  [-0.00000000e+00 -0.00000000e+00 -0.00000000e+00 ... -0.00000000e+00\n",
      "   -3.64820182e-01 -0.00000000e+00]\n",
      "  [-0.00000000e+00 -0.00000000e+00 -0.00000000e+00 ... -0.00000000e+00\n",
      "   -0.00000000e+00 -0.00000000e+00]\n",
      "  [-0.00000000e+00 -0.00000000e+00 -0.00000000e+00 ... -0.00000000e+00\n",
      "   -0.00000000e+00 -0.00000000e+00]]\n",
      "\n",
      " [[-0.00000000e+00 -0.00000000e+00  2.79509068e+00 ... -0.00000000e+00\n",
      "   -0.00000000e+00 -0.00000000e+00]\n",
      "  [-0.00000000e+00 -3.26222450e-01  3.95058513e+00 ... -0.00000000e+00\n",
      "   -2.36413330e-01 -0.00000000e+00]\n",
      "  [-0.00000000e+00 -0.00000000e+00  7.88502598e+00 ... -0.00000000e+00\n",
      "   -2.10216246e-03 -0.00000000e+00]\n",
      "  ...\n",
      "  [-0.00000000e+00 -0.00000000e+00 -0.00000000e+00 ... -0.00000000e+00\n",
      "   -0.00000000e+00 -0.00000000e+00]\n",
      "  [-0.00000000e+00 -0.00000000e+00 -0.00000000e+00 ... -0.00000000e+00\n",
      "   -0.00000000e+00 -0.00000000e+00]\n",
      "  [-3.26096207e-01 -0.00000000e+00 -0.00000000e+00 ... -0.00000000e+00\n",
      "   -0.00000000e+00 -0.00000000e+00]]\n",
      "\n",
      " [[-0.00000000e+00 -0.00000000e+00  4.07864362e-01 ... -0.00000000e+00\n",
      "   -0.00000000e+00 -0.00000000e+00]\n",
      "  [-0.00000000e+00 -2.79545277e-01  1.96179426e+00 ... -0.00000000e+00\n",
      "   -2.90866762e-01 -3.40513915e-01]\n",
      "  [-0.00000000e+00 -0.00000000e+00  4.87682152e+00 ... -0.00000000e+00\n",
      "   -2.17204079e-01 -0.00000000e+00]\n",
      "  ...\n",
      "  [-0.00000000e+00 -0.00000000e+00 -0.00000000e+00 ... -0.00000000e+00\n",
      "   -0.00000000e+00 -0.00000000e+00]\n",
      "  [-0.00000000e+00 -0.00000000e+00 -0.00000000e+00 ... -0.00000000e+00\n",
      "   -0.00000000e+00  2.55195928e+00]\n",
      "  [-3.73439968e-01 -0.00000000e+00 -3.63241464e-01 ... -0.00000000e+00\n",
      "   -0.00000000e+00 -3.74996364e-01]]\n",
      "\n",
      " ...\n",
      "\n",
      " [[-0.00000000e+00 -0.00000000e+00  1.09228685e-01 ... -6.57579154e-02\n",
      "   -0.00000000e+00 -0.00000000e+00]\n",
      "  [-0.00000000e+00 -0.00000000e+00  5.81252158e-01 ... -3.74779314e-01\n",
      "   -0.00000000e+00 -3.39189470e-01]\n",
      "  [-0.00000000e+00 -0.00000000e+00 -2.45554462e-01 ... -1.71687841e-01\n",
      "   -0.00000000e+00 -0.00000000e+00]\n",
      "  ...\n",
      "  [-0.00000000e+00 -0.00000000e+00  2.17964435e+00 ... -0.00000000e+00\n",
      "   -0.00000000e+00 -0.00000000e+00]\n",
      "  [-0.00000000e+00 -0.00000000e+00 -5.07623889e-02 ... -0.00000000e+00\n",
      "   -0.00000000e+00 -0.00000000e+00]\n",
      "  [-0.00000000e+00 -0.00000000e+00 -0.00000000e+00 ... -3.54402512e-01\n",
      "   -0.00000000e+00 -0.00000000e+00]]\n",
      "\n",
      " [[-0.00000000e+00 -0.00000000e+00 -0.00000000e+00 ...  5.39514542e+00\n",
      "   -0.00000000e+00 -0.00000000e+00]\n",
      "  [-0.00000000e+00 -0.00000000e+00 -0.00000000e+00 ...  5.60634041e+00\n",
      "   -0.00000000e+00 -0.00000000e+00]\n",
      "  [-0.00000000e+00 -0.00000000e+00 -0.00000000e+00 ...  2.07738429e-01\n",
      "   -0.00000000e+00 -0.00000000e+00]\n",
      "  ...\n",
      "  [-0.00000000e+00 -0.00000000e+00 -3.25975925e-01 ...  3.83258629e+00\n",
      "   -0.00000000e+00 -0.00000000e+00]\n",
      "  [-0.00000000e+00 -0.00000000e+00 -0.00000000e+00 ...  1.96737158e+00\n",
      "   -0.00000000e+00 -0.00000000e+00]\n",
      "  [-0.00000000e+00 -0.00000000e+00 -0.00000000e+00 ... -3.27001899e-01\n",
      "   -0.00000000e+00 -0.00000000e+00]]\n",
      "\n",
      " [[-0.00000000e+00 -0.00000000e+00  4.62258518e-01 ... -0.00000000e+00\n",
      "   -0.00000000e+00 -0.00000000e+00]\n",
      "  [-1.14230454e-01 -0.00000000e+00 -3.59783798e-01 ... -1.60376653e-01\n",
      "   -0.00000000e+00 -0.00000000e+00]\n",
      "  [-0.00000000e+00 -0.00000000e+00 -3.74673277e-01 ... -3.61678451e-01\n",
      "   -0.00000000e+00 -0.00000000e+00]\n",
      "  ...\n",
      "  [-0.00000000e+00 -0.00000000e+00 -2.72415757e-01 ...  1.40187633e+00\n",
      "   -0.00000000e+00 -0.00000000e+00]\n",
      "  [-0.00000000e+00 -0.00000000e+00 -3.64769667e-01 ...  1.67511070e+00\n",
      "   -0.00000000e+00 -0.00000000e+00]\n",
      "  [-0.00000000e+00 -0.00000000e+00 -3.74990106e-01 ... -1.36368364e-01\n",
      "   -0.00000000e+00 -0.00000000e+00]]], shape=(7, 7, 576), dtype=float32)\n"
     ]
    },
    {
     "name": "stderr",
     "output_type": "stream",
     "text": [
      "2025-01-26 13:22:05.465920: I tensorflow/core/framework/local_rendezvous.cc:405] Local rendezvous is aborting with status: OUT_OF_RANGE: End of sequence\n"
     ]
    }
   ],
   "source": [
    "# Sanity check for data loading\n",
    "train_ds.element_spec\n",
    "\n",
    "for (inputs, end_token) in train_ds.take(1):\n",
    "  (img, start_token) = inputs\n",
    "\n",
    "print(img.shape)\n",
    "print(start_token.shape)\n",
    "print(end_token.shape)\n",
    "\n",
    "print(start_token[0])\n",
    "print(end_token[0])\n",
    "print(img[0])"
   ]
  },
  {
   "cell_type": "code",
   "execution_count": 80,
   "metadata": {},
   "outputs": [
    {
     "data": {
      "text/plain": [
       "np.int64(1618)"
      ]
     },
     "execution_count": 80,
     "metadata": {},
     "output_type": "execute_result"
    }
   ],
   "source": [
    "total_samples_train = tf.data.experimental.cardinality(train_ds).numpy()\n",
    "total_samples_train # of batch 256"
   ]
  },
  {
   "cell_type": "code",
   "execution_count": 81,
   "metadata": {},
   "outputs": [
    {
     "data": {
      "text/plain": [
       "np.int64(792)"
      ]
     },
     "execution_count": 81,
     "metadata": {},
     "output_type": "execute_result"
    }
   ],
   "source": [
    "total_samples_val = tf.data.experimental.cardinality(val_ds).numpy()\n",
    "total_samples_val # of batch 256"
   ]
  },
  {
   "cell_type": "code",
   "execution_count": 221,
   "metadata": {},
   "outputs": [
    {
     "name": "stderr",
     "output_type": "stream",
     "text": [
      "100%|██████████| 1618/1618 [11:06<00:00,  2.43it/s]"
     ]
    },
    {
     "name": "stdout",
     "output_type": "stream",
     "text": [
      "\n",
      "Uniform entropy: 9.21\n",
      "Marginal entropy: 5.41\n"
     ]
    },
    {
     "name": "stderr",
     "output_type": "stream",
     "text": [
      "\n"
     ]
    }
   ],
   "source": [
    "output_layer = TokenOutput(tokenizer, banned_tokens=('', '[UNK]', '[START]'))\n",
    "output_layer.adapt(train_ds.map(lambda inputs, labels: labels))"
   ]
  },
  {
   "cell_type": "code",
   "execution_count": 32,
   "metadata": {},
   "outputs": [],
   "source": [
    "model = Captioner(\n",
    "    tokenizer, \n",
    "    feature_extractor=mobilenet, \n",
    "    output_layer=output_layer,\n",
    "    units=256, \n",
    "    dropout_rate=0.5, \n",
    "    num_layers=2, \n",
    "    num_heads=2\n",
    ")"
   ]
  },
  {
   "cell_type": "code",
   "execution_count": 17,
   "metadata": {},
   "outputs": [],
   "source": [
    "image_url = 'https://tensorflow.org/images/surf.jpg'\n",
    "image_path = tf.keras.utils.get_file('surf.jpg', origin=image_url)\n",
    "image = load_image(image_path, IMAGE_SHAPE)"
   ]
  },
  {
   "cell_type": "code",
   "execution_count": 18,
   "metadata": {},
   "outputs": [
    {
     "name": "stderr",
     "output_type": "stream",
     "text": [
      "I0000 00:00:1737807364.478120     961 cuda_dnn.cc:529] Loaded cuDNN version 90600\n",
      "/home/hylke/miniconda3/envs/imagecaption/lib/python3.10/site-packages/keras/src/ops/nn.py:907: UserWarning: You are using a softmax over axis 3 of a tensor of shape (1, 2, 1, 1). This axis has size 1. The softmax operation will always return the value 1, which is likely not what you intended. Did you mean to use a sigmoid instead?\n",
      "  warnings.warn(\n",
      "/home/hylke/miniconda3/envs/imagecaption/lib/python3.10/site-packages/keras/src/layers/layer.py:393: UserWarning: `build()` was called on layer 'captioner', however the layer does not have a `build()` method implemented and it looks like it has unbuilt state. This will cause the layer to be marked as built, despite not being actually built, which may cause failures down the line. Make sure to implement a proper `build()` method.\n",
      "  warnings.warn(\n"
     ]
    },
    {
     "name": "stdout",
     "output_type": "stream",
     "text": [
      "a a a a a a a a a a a a a a a a a a a a a a\n",
      "--------\n",
      "\n",
      "--------\n",
      "and in sigh stop a clean and and is track young large to park standing in\n",
      "--------\n"
     ]
    }
   ],
   "source": [
    "for t in (0.0, 0.5, 1.0):\n",
    "  result = model.simple_gen(image, temperature=t)\n",
    "  print(result)\n",
    "  print(\"--------\")"
   ]
  },
  {
   "cell_type": "code",
   "execution_count": 222,
   "metadata": {},
   "outputs": [],
   "source": [
    "@tf.keras.utils.register_keras_serializable()\n",
    "def masked_loss(labels, preds):\n",
    "  labels = tf.cast(labels, tf.int32)\n",
    "  loss = tf.nn.sparse_softmax_cross_entropy_with_logits(labels, preds)\n",
    "\n",
    "  mask = (labels != 0) & (loss < 1e8) \n",
    "  mask = tf.cast(mask, loss.dtype)\n",
    "\n",
    "  loss = loss * mask\n",
    "  loss = tf.reduce_sum(loss) / tf.reduce_sum(mask)\n",
    "  return loss\n",
    "\n",
    "@tf.keras.utils.register_keras_serializable()\n",
    "def masked_acc(labels, preds):\n",
    "  mask = tf.cast(labels != 0, tf.float32)\n",
    "  preds = tf.argmax(preds, axis=-1)\n",
    "  labels = tf.cast(labels, tf.int64)\n",
    "\n",
    "  match = tf.cast(preds == labels, mask.dtype)\n",
    "  acc = tf.reduce_sum(match * mask) / tf.reduce_sum(mask)\n",
    "  return acc"
   ]
  },
  {
   "cell_type": "code",
   "execution_count": 22,
   "metadata": {},
   "outputs": [],
   "source": [
    "callbacks = [\n",
    "    GenerateText(IMAGE_SHAPE),\n",
    "    EarlyStopping(patience=5, restore_best_weights=True)\n",
    "]"
   ]
  },
  {
   "cell_type": "code",
   "execution_count": 35,
   "metadata": {},
   "outputs": [],
   "source": [
    "model.compile(optimizer=Adam(learning_rate=1e-4), loss=masked_loss, metrics=[masked_acc])"
   ]
  },
  {
   "cell_type": "code",
   "execution_count": 36,
   "metadata": {},
   "outputs": [
    {
     "name": "stdout",
     "output_type": "stream",
     "text": [
      "Epoch 1/16\n"
     ]
    },
    {
     "name": "stderr",
     "output_type": "stream",
     "text": [
      "/home/hylke/miniconda3/envs/imagecaption/lib/python3.10/site-packages/keras/src/layers/layer.py:393: UserWarning: `build()` was called on layer 'captioner_2', however the layer does not have a `build()` method implemented and it looks like it has unbuilt state. This will cause the layer to be marked as built, despite not being actually built, which may cause failures down the line. Make sure to implement a proper `build()` method.\n",
      "  warnings.warn(\n"
     ]
    },
    {
     "name": "stdout",
     "output_type": "stream",
     "text": [
      "\u001b[1m100/100\u001b[0m \u001b[32m━━━━━━━━━━━━━━━━━━━━\u001b[0m\u001b[37m\u001b[0m \u001b[1m0s\u001b[0m 426ms/step - loss: 4.5600 - masked_acc: 0.2483\n",
      "\n",
      "a man is riding a surfboard on a wave\n",
      "a person is in the air on a snow\n",
      "a surfer white is getting to shade while skiers a surfboard\n",
      "\n",
      "\u001b[1m100/100\u001b[0m \u001b[32m━━━━━━━━━━━━━━━━━━━━\u001b[0m\u001b[37m\u001b[0m \u001b[1m71s\u001b[0m 657ms/step - loss: 4.5557 - masked_acc: 0.2488 - val_loss: 3.6519 - val_masked_acc: 0.3507\n",
      "Epoch 2/16\n",
      "\u001b[1m100/100\u001b[0m \u001b[32m━━━━━━━━━━━━━━━━━━━━\u001b[0m\u001b[37m\u001b[0m \u001b[1m0s\u001b[0m 425ms/step - loss: 3.5784 - masked_acc: 0.3603\n",
      "\n",
      "a person on a surfboard in the ocean\n",
      "a person on a surfboard on a surfboard\n",
      "this is a white painted brush covered with several kicking water with arm\n",
      "\n",
      "\u001b[1m100/100\u001b[0m \u001b[32m━━━━━━━━━━━━━━━━━━━━\u001b[0m\u001b[37m\u001b[0m \u001b[1m62s\u001b[0m 629ms/step - loss: 3.5778 - masked_acc: 0.3604 - val_loss: 3.4223 - val_masked_acc: 0.3798\n",
      "Epoch 3/16\n",
      "\u001b[1m100/100\u001b[0m \u001b[32m━━━━━━━━━━━━━━━━━━━━\u001b[0m\u001b[37m\u001b[0m \u001b[1m0s\u001b[0m 414ms/step - loss: 3.3811 - masked_acc: 0.3851\n",
      "\n",
      "a man is on a surfboard in the water\n",
      "a person riding a wave on a wave in the water\n",
      "a person with the birds is bends of alongside the mountains\n",
      "\n",
      "\u001b[1m100/100\u001b[0m \u001b[32m━━━━━━━━━━━━━━━━━━━━\u001b[0m\u001b[37m\u001b[0m \u001b[1m63s\u001b[0m 638ms/step - loss: 3.3807 - masked_acc: 0.3852 - val_loss: 3.2902 - val_masked_acc: 0.3942\n",
      "Epoch 4/16\n",
      "\u001b[1m100/100\u001b[0m \u001b[32m━━━━━━━━━━━━━━━━━━━━\u001b[0m\u001b[37m\u001b[0m \u001b[1m0s\u001b[0m 406ms/step - loss: 3.2746 - masked_acc: 0.3964\n",
      "\n",
      "a man in a surfboard in a wave\n",
      "a person on a surfboard in a wave\n",
      "a person on a a wave in the riding a wave of water\n",
      "\n",
      "\u001b[1m100/100\u001b[0m \u001b[32m━━━━━━━━━━━━━━━━━━━━\u001b[0m\u001b[37m\u001b[0m \u001b[1m59s\u001b[0m 593ms/step - loss: 3.2744 - masked_acc: 0.3964 - val_loss: 3.2111 - val_masked_acc: 0.3994\n",
      "Epoch 5/16\n",
      "\u001b[1m100/100\u001b[0m \u001b[32m━━━━━━━━━━━━━━━━━━━━\u001b[0m\u001b[37m\u001b[0m \u001b[1m0s\u001b[0m 359ms/step - loss: 3.1928 - masked_acc: 0.4059\n",
      "\n",
      "a man in a surfboard on a wave\n",
      "a person on a surfboard riding in the ocean\n",
      "a woman in front of a lake water\n",
      "\n",
      "\u001b[1m100/100\u001b[0m \u001b[32m━━━━━━━━━━━━━━━━━━━━\u001b[0m\u001b[37m\u001b[0m \u001b[1m60s\u001b[0m 604ms/step - loss: 3.1926 - masked_acc: 0.4059 - val_loss: 3.1846 - val_masked_acc: 0.4065\n",
      "Epoch 6/16\n",
      "\u001b[1m100/100\u001b[0m \u001b[32m━━━━━━━━━━━━━━━━━━━━\u001b[0m\u001b[37m\u001b[0m \u001b[1m0s\u001b[0m 292ms/step - loss: 3.1633 - masked_acc: 0.4103\n",
      "\n",
      "a man in a surfboard on a surfboard\n",
      "a man riding a wave on top of a wave\n",
      "a person ovens on a wave in the water\n",
      "\n",
      "\u001b[1m100/100\u001b[0m \u001b[32m━━━━━━━━━━━━━━━━━━━━\u001b[0m\u001b[37m\u001b[0m \u001b[1m52s\u001b[0m 522ms/step - loss: 3.1630 - masked_acc: 0.4103 - val_loss: 3.0991 - val_masked_acc: 0.4158\n",
      "Epoch 7/16\n",
      "\u001b[1m100/100\u001b[0m \u001b[32m━━━━━━━━━━━━━━━━━━━━\u001b[0m\u001b[37m\u001b[0m \u001b[1m0s\u001b[0m 217ms/step - loss: 3.0874 - masked_acc: 0.4170\n",
      "\n",
      "a man in a surfboard on a wave\n",
      "a man in a surfboard is on a wave\n",
      "the the rides in the is brown surfer stores\n",
      "\n",
      "\u001b[1m100/100\u001b[0m \u001b[32m━━━━━━━━━━━━━━━━━━━━\u001b[0m\u001b[37m\u001b[0m \u001b[1m43s\u001b[0m 432ms/step - loss: 3.0874 - masked_acc: 0.4170 - val_loss: 3.0528 - val_masked_acc: 0.4196\n",
      "Epoch 8/16\n",
      "\u001b[1m100/100\u001b[0m \u001b[32m━━━━━━━━━━━━━━━━━━━━\u001b[0m\u001b[37m\u001b[0m \u001b[1m0s\u001b[0m 242ms/step - loss: 3.0539 - masked_acc: 0.4215\n",
      "\n",
      "a surfer is on a surfboard in the ocean\n",
      "a surfer is in the ocean in the water\n",
      "the ocean are body of a man in water skiing\n",
      "\n",
      "\u001b[1m100/100\u001b[0m \u001b[32m━━━━━━━━━━━━━━━━━━━━\u001b[0m\u001b[37m\u001b[0m \u001b[1m49s\u001b[0m 493ms/step - loss: 3.0539 - masked_acc: 0.4215 - val_loss: 3.0456 - val_masked_acc: 0.4225\n",
      "Epoch 9/16\n",
      "\u001b[1m100/100\u001b[0m \u001b[32m━━━━━━━━━━━━━━━━━━━━\u001b[0m\u001b[37m\u001b[0m \u001b[1m0s\u001b[0m 207ms/step - loss: 3.0242 - masked_acc: 0.4243\n",
      "\n",
      "a man in a blue shirt is surfing on a surfboard\n",
      "a man in a blue waves in the ocean\n",
      "young male in front of a good blue ocean\n",
      "\n",
      "\u001b[1m100/100\u001b[0m \u001b[32m━━━━━━━━━━━━━━━━━━━━\u001b[0m\u001b[37m\u001b[0m \u001b[1m46s\u001b[0m 463ms/step - loss: 3.0243 - masked_acc: 0.4243 - val_loss: 3.0111 - val_masked_acc: 0.4254\n",
      "Epoch 10/16\n",
      "\u001b[1m100/100\u001b[0m \u001b[32m━━━━━━━━━━━━━━━━━━━━\u001b[0m\u001b[37m\u001b[0m \u001b[1m0s\u001b[0m 195ms/step - loss: 2.9793 - masked_acc: 0.4309\n",
      "\n",
      "a man in a surfboard on a surfboard\n",
      "a person on a surfboard in the ocean\n",
      "a man in an ocean is surfing on a wave\n",
      "\n",
      "\u001b[1m100/100\u001b[0m \u001b[32m━━━━━━━━━━━━━━━━━━━━\u001b[0m\u001b[37m\u001b[0m \u001b[1m45s\u001b[0m 453ms/step - loss: 2.9793 - masked_acc: 0.4309 - val_loss: 2.9527 - val_masked_acc: 0.4318\n",
      "Epoch 11/16\n",
      "\u001b[1m100/100\u001b[0m \u001b[32m━━━━━━━━━━━━━━━━━━━━\u001b[0m\u001b[37m\u001b[0m \u001b[1m0s\u001b[0m 202ms/step - loss: 2.9684 - masked_acc: 0.4327\n",
      "\n",
      "a man in a blue shirt is surfing\n",
      "a man with a surfboard in a blue surfboard\n",
      "a person on a surfboard is on a wave\n",
      "\n",
      "\u001b[1m100/100\u001b[0m \u001b[32m━━━━━━━━━━━━━━━━━━━━\u001b[0m\u001b[37m\u001b[0m \u001b[1m46s\u001b[0m 459ms/step - loss: 2.9683 - masked_acc: 0.4327 - val_loss: 2.9583 - val_masked_acc: 0.4304\n",
      "Epoch 12/16\n",
      "\u001b[1m100/100\u001b[0m \u001b[32m━━━━━━━━━━━━━━━━━━━━\u001b[0m\u001b[37m\u001b[0m \u001b[1m0s\u001b[0m 191ms/step - loss: 2.9165 - masked_acc: 0.4377\n",
      "\n",
      "a man riding a wave on a surfboard\n",
      "a man riding a wave in the ocean\n",
      "a person sitting on top oven holding a man over the ocean\n",
      "\n",
      "\u001b[1m100/100\u001b[0m \u001b[32m━━━━━━━━━━━━━━━━━━━━\u001b[0m\u001b[37m\u001b[0m \u001b[1m44s\u001b[0m 444ms/step - loss: 2.9167 - masked_acc: 0.4377 - val_loss: 2.9052 - val_masked_acc: 0.4366\n",
      "Epoch 13/16\n",
      "\u001b[1m100/100\u001b[0m \u001b[32m━━━━━━━━━━━━━━━━━━━━\u001b[0m\u001b[37m\u001b[0m \u001b[1m0s\u001b[0m 206ms/step - loss: 2.9054 - masked_acc: 0.4386\n",
      "\n",
      "a man in a wetsuit riding a wave on a surfboard\n",
      "a surfer is surfing in the water\n",
      "surfer using to giraffes riding on a surfboard\n",
      "\n",
      "\u001b[1m100/100\u001b[0m \u001b[32m━━━━━━━━━━━━━━━━━━━━\u001b[0m\u001b[37m\u001b[0m \u001b[1m42s\u001b[0m 424ms/step - loss: 2.9053 - masked_acc: 0.4386 - val_loss: 2.9079 - val_masked_acc: 0.4361\n",
      "Epoch 14/16\n",
      "\u001b[1m100/100\u001b[0m \u001b[32m━━━━━━━━━━━━━━━━━━━━\u001b[0m\u001b[37m\u001b[0m \u001b[1m0s\u001b[0m 232ms/step - loss: 2.8682 - masked_acc: 0.4412\n",
      "\n",
      "a man in a wetsuit surfing in the ocean\n",
      "a man in a white surfboard on a wave\n",
      "surfer on near other ocean surfboard on top of a wave\n",
      "\n",
      "\u001b[1m100/100\u001b[0m \u001b[32m━━━━━━━━━━━━━━━━━━━━\u001b[0m\u001b[37m\u001b[0m \u001b[1m45s\u001b[0m 457ms/step - loss: 2.8681 - masked_acc: 0.4412 - val_loss: 2.8802 - val_masked_acc: 0.4365\n",
      "Epoch 15/16\n",
      "\u001b[1m100/100\u001b[0m \u001b[32m━━━━━━━━━━━━━━━━━━━━\u001b[0m\u001b[37m\u001b[0m \u001b[1m0s\u001b[0m 220ms/step - loss: 2.8543 - masked_acc: 0.4413\n",
      "\n",
      "a man in a blue shirt riding a wave\n",
      "a man in a red wetsuit on a wave\n",
      "a woman on a surf board material while she makes a bent down\n",
      "\n",
      "\u001b[1m100/100\u001b[0m \u001b[32m━━━━━━━━━━━━━━━━━━━━\u001b[0m\u001b[37m\u001b[0m \u001b[1m44s\u001b[0m 448ms/step - loss: 2.8543 - masked_acc: 0.4413 - val_loss: 2.8478 - val_masked_acc: 0.4397\n",
      "Epoch 16/16\n",
      "\u001b[1m100/100\u001b[0m \u001b[32m━━━━━━━━━━━━━━━━━━━━\u001b[0m\u001b[37m\u001b[0m \u001b[1m0s\u001b[0m 224ms/step - loss: 2.8473 - masked_acc: 0.4438\n",
      "\n",
      "a man in a blue wetsuit riding a wave\n",
      "a man in a wetsuit riding a wave\n",
      "two men sleeps on the surfboard on a sail water\n",
      "\n",
      "\u001b[1m100/100\u001b[0m \u001b[32m━━━━━━━━━━━━━━━━━━━━\u001b[0m\u001b[37m\u001b[0m \u001b[1m43s\u001b[0m 431ms/step - loss: 2.8472 - masked_acc: 0.4438 - val_loss: 2.8315 - val_masked_acc: 0.4437\n"
     ]
    }
   ],
   "source": [
    "# 1 epoch takes about 16~ minutes (13~ minutes training and 3~ minutes validation)\n",
    "# history = model.fit(\n",
    "#     train_ds,\n",
    "#     validation_data=val_ds,\n",
    "#     epochs=100,\n",
    "#     callbacks=callbacks\n",
    "# )\n",
    "\n",
    "# total number of train samples = 1618 and total number of val samples = 792\n",
    "# 16 * 100 = 1600 (little less than entire training set) and 16 * 48 = 768 (little less than entire val set) to prevent errors\n",
    "history = model.fit(\n",
    "    train_ds,\n",
    "    validation_data=val_ds,\n",
    "    epochs=16,\n",
    "    steps_per_epoch=100,\n",
    "    validation_steps=48,\n",
    "    callbacks=callbacks\n",
    ")"
   ]
  },
  {
   "cell_type": "code",
   "execution_count": 37,
   "metadata": {},
   "outputs": [
    {
     "data": {
      "text/plain": [
       "<matplotlib.legend.Legend at 0x7fb0872af8b0>"
      ]
     },
     "execution_count": 37,
     "metadata": {},
     "output_type": "execute_result"
    },
    {
     "data": {
      "image/png": "[encoded data removed]",
      "text/plain": [
       "<Figure size 640x480 with 1 Axes>"
      ]
     },
     "metadata": {},
     "output_type": "display_data"
    }
   ],
   "source": [
    "# Plotting\n",
    "plt.plot(history.history['loss'], label='loss')\n",
    "plt.plot(history.history['val_loss'], label='val_loss')\n",
    "plt.ylim([0, max(plt.ylim())])\n",
    "plt.xlabel('Epoch #')\n",
    "plt.ylabel('CE/token')\n",
    "plt.legend()\n",
    "\n",
    "plt.plot(history.history['masked_acc'], label='accuracy')\n",
    "plt.plot(history.history['val_masked_acc'], label='val_accuracy')\n",
    "plt.ylim([0, max(plt.ylim())])\n",
    "plt.xlabel('Epoch #')\n",
    "plt.ylabel('CE/token')\n",
    "plt.legend()\n",
    "\n"
   ]
  },
  {
   "cell_type": "markdown",
   "metadata": {},
   "source": [
    "### Hyper-parameter tuning and model training"
   ]
  },
  {
   "cell_type": "code",
   "execution_count": 84,
   "metadata": {},
   "outputs": [],
   "source": [
    "def build_model(hp):\n",
    "    model = Captioner(\n",
    "        tokenizer=tokenizer, \n",
    "        feature_extractor=mobilenet, \n",
    "        output_layer=output_layer,\n",
    "        units=256,\n",
    "        dropout_rate=hp.Float('dropout_rate', min_value=0.1, max_value=0.5, step=0.1),\n",
    "        num_layers=hp.Int('num_layers', min_value=1, max_value=5, step=1),\n",
    "        num_heads=hp.Int('num_heads', min_value=1, max_value=5, step=1)\n",
    "    )\n",
    "\n",
    "    optimizer_name = hp.Choice('optimizer', ['adam', 'sgd', 'rmsprop'])\n",
    "\n",
    "    if optimizer_name == 'adam':\n",
    "        optimizer = Adam(learning_rate=hp.Choice('learning_rate', values=[0.00001, 0.0001, 0.001, 0.01]))\n",
    "    elif optimizer_name == 'sgd':\n",
    "        optimizer = SGD(learning_rate=hp.Choice('learning_rate', values=[0.00001, 0.0001, 0.001, 0.01]), momentum=0.9)\n",
    "    elif optimizer_name == 'rmsprop':\n",
    "        optimizer = RMSprop(learning_rate=hp.Choice('learning_rate', values=[0.00001, 0.0001, 0.001, 0.01]))\n",
    "\n",
    "    input_shape = ((None, 7, 7, 576), (None, None))  # Example input shapes\n",
    "    model.build(input_shape) # Needed to add this line, some trials would fail otherwise.\n",
    "\n",
    "    model.compile(\n",
    "        optimizer=optimizer,\n",
    "        loss=masked_loss,\n",
    "        metrics=[masked_acc]\n",
    "    )\n",
    "    return model"
   ]
  },
  {
   "cell_type": "code",
   "execution_count": 85,
   "metadata": {},
   "outputs": [],
   "source": [
    "callbacks = [\n",
    "    GenerateText(IMAGE_SHAPE),\n",
    "    EarlyStopping(patience=3, restore_best_weights=True)\n",
    "]"
   ]
  },
  {
   "cell_type": "code",
   "execution_count": 86,
   "metadata": {},
   "outputs": [
    {
     "name": "stderr",
     "output_type": "stream",
     "text": [
      "/home/hylke/miniconda3/envs/imagecaption/lib/python3.10/site-packages/keras/src/layers/layer.py:393: UserWarning: `build()` was called on layer 'captioner_1', however the layer does not have a `build()` method implemented and it looks like it has unbuilt state. This will cause the layer to be marked as built, despite not being actually built, which may cause failures down the line. Make sure to implement a proper `build()` method.\n",
      "  warnings.warn(\n"
     ]
    }
   ],
   "source": [
    "tuner = kt.Hyperband(\n",
    "    build_model,\n",
    "    objective=kt.Objective(\"val_masked_acc\", direction=\"max\"),\n",
    "    max_epochs=16,\n",
    "    factor=3,\n",
    "    directory='hyperparameter_tuning',\n",
    "    project_name='captioner_tuning'\n",
    ")"
   ]
  },
  {
   "cell_type": "code",
   "execution_count": 87,
   "metadata": {},
   "outputs": [
    {
     "name": "stdout",
     "output_type": "stream",
     "text": [
      "Trial 30 Complete [00h 13m 29s]\n",
      "val_masked_acc: 0.3926910161972046\n",
      "\n",
      "Best val_masked_acc So Far: 0.46603575348854065\n",
      "Total elapsed time: 02h 48m 27s\n"
     ]
    }
   ],
   "source": [
    "tuner.search(\n",
    "    train_ds,\n",
    "    validation_data=val_ds,\n",
    "    epochs=16,\n",
    "    steps_per_epoch=100,\n",
    "    validation_steps=48,\n",
    "    callbacks=callbacks\n",
    ")"
   ]
  },
  {
   "cell_type": "code",
   "execution_count": 88,
   "metadata": {},
   "outputs": [],
   "source": [
    "best_hps = tuner.get_best_hyperparameters(num_trials=1)[0]"
   ]
  },
  {
   "cell_type": "code",
   "execution_count": 117,
   "metadata": {},
   "outputs": [
    {
     "name": "stderr",
     "output_type": "stream",
     "text": [
      "/home/hylke/miniconda3/envs/imagecaption/lib/python3.10/site-packages/keras/src/layers/layer.py:393: UserWarning: `build()` was called on layer 'captioner', however the layer does not have a `build()` method implemented and it looks like it has unbuilt state. This will cause the layer to be marked as built, despite not being actually built, which may cause failures down the line. Make sure to implement a proper `build()` method.\n",
      "  warnings.warn(\n",
      "/home/hylke/miniconda3/envs/imagecaption/lib/python3.10/site-packages/keras/src/saving/saving_lib.py:757: UserWarning: Skipping variable loading for optimizer 'adam', because it has 2 variables whereas the saved optimizer has 114 variables. \n",
      "  saveable.load_own_variables(weights_store.get(inner_path))\n"
     ]
    }
   ],
   "source": [
    "best_model = tuner.get_best_models()[0]"
   ]
  },
  {
   "cell_type": "code",
   "execution_count": null,
   "metadata": {},
   "outputs": [],
   "source": [
    "best_model.save_weights(\"trained_model/checkpoint_weights.weights.h5\")"
   ]
  },
  {
   "cell_type": "code",
   "execution_count": 115,
   "metadata": {},
   "outputs": [
    {
     "name": "stdout",
     "output_type": "stream",
     "text": [
      "dropout_rate: 0.2\n",
      "num_layers: 2\n",
      "num_heads: 2\n",
      "optimizer: adam\n",
      "learning_rate: 0.001\n",
      "tuner/epochs: 16\n",
      "tuner/initial_epoch: 6\n",
      "tuner/bracket: 1\n",
      "tuner/round: 1\n",
      "tuner/trial_id: 0020\n"
     ]
    }
   ],
   "source": [
    "for hp_name, hp_value in best_hps.values.items():\n",
    "    print(f\"{hp_name}: {hp_value}\")"
   ]
  },
  {
   "cell_type": "code",
   "execution_count": 27,
   "metadata": {},
   "outputs": [],
   "source": [
    "image_url = 'https://tensorflow.org/images/surf.jpg'\n",
    "image_path = tf.keras.utils.get_file('surf.jpg', origin=image_url)\n",
    "image = load_image(image_path, IMAGE_SHAPE)"
   ]
  },
  {
   "cell_type": "code",
   "execution_count": 131,
   "metadata": {},
   "outputs": [
    {
     "name": "stdout",
     "output_type": "stream",
     "text": [
      "a surfer is riding a wave in the ocean\n",
      "--------\n",
      "a surfer is surfing on the ocean\n",
      "--------\n",
      "a man is surfboard caught in on a wave in the ocean\n",
      "--------\n"
     ]
    }
   ],
   "source": [
    "for t in (0.0, 0.5, 1.0):\n",
    "  result = best_model.simple_gen(image, temperature=t)\n",
    "  print(result)\n",
    "  print(\"--------\")"
   ]
  },
  {
   "cell_type": "code",
   "execution_count": 224,
   "metadata": {},
   "outputs": [
    {
     "name": "stderr",
     "output_type": "stream",
     "text": [
      "/home/hylke/miniconda3/envs/imagecaption/lib/python3.10/site-packages/keras/src/layers/layer.py:393: UserWarning: `build()` was called on layer 'captioner_36', however the layer does not have a `build()` method implemented and it looks like it has unbuilt state. This will cause the layer to be marked as built, despite not being actually built, which may cause failures down the line. Make sure to implement a proper `build()` method.\n",
      "  warnings.warn(\n"
     ]
    }
   ],
   "source": [
    "new_best_model = Captioner(\n",
    "    tokenizer, \n",
    "    feature_extractor=mobilenet, \n",
    "    output_layer=output_layer,\n",
    "    units=256, \n",
    "    dropout_rate=0.2, \n",
    "    num_layers=2, \n",
    "    num_heads=2\n",
    ")\n",
    "\n",
    "new_best_model.compile(optimizer=Adam(learning_rate=0.001), loss=masked_loss, metrics=[masked_acc])\n",
    "\n",
    "input_shape = ((None, 7, 7, 576), (None, None))  # Example input shapes\n",
    "new_best_model.build(input_shape)"
   ]
  },
  {
   "cell_type": "code",
   "execution_count": 227,
   "metadata": {},
   "outputs": [],
   "source": [
    "new_best_model.load_weights(\"trained_model/checkpoint_weights.weights.h5\")"
   ]
  },
  {
   "cell_type": "code",
   "execution_count": 228,
   "metadata": {},
   "outputs": [
    {
     "name": "stdout",
     "output_type": "stream",
     "text": [
      "--------\n",
      "New_best_model.result =  a surfer is riding a wave in the ocean\n",
      "--------\n",
      "--------\n",
      "New_best_model.result =  a man is surfing on a wave in the ocean\n",
      "--------\n",
      "--------\n",
      "New_best_model.result =  a surfboard is of a man riding a wave\n",
      "--------\n"
     ]
    }
   ],
   "source": [
    "for t in (0.0, 0.5, 1.0):\n",
    "  # best_result = best_model.simple_gen(image, temperature=t)\n",
    "  new_best_result = new_best_model.simple_gen(image, temperature=t)\n",
    "  # print(\"Best_model.result = \", best_result)\n",
    "  print(\"--------\")\n",
    "  print(\"New_best_model.result = \", new_best_result)\n",
    "  print(\"--------\")\n"
   ]
  },
  {
   "cell_type": "code",
   "execution_count": 229,
   "metadata": {},
   "outputs": [],
   "source": [
    "new_best_model.save(\"trained_model/model_checkpoint.keras\")"
   ]
  },
  {
   "cell_type": "code",
   "execution_count": 223,
   "metadata": {},
   "outputs": [],
   "source": [
    "@tf.keras.utils.register_keras_serializable()\n",
    "def standardize(s):\n",
    "    s = tf.strings.lower(s) # Lowercase\n",
    "    s = tf.strings.regex_replace(s, f'[{re.escape(string.punctuation)}]', '') # Remove puncuation\n",
    "    s = tf.strings.join(['[START]', s, '[END]'], separator=' ') # Add [START] and [END] tokens to the text\n",
    "    return s"
   ]
  },
  {
   "cell_type": "code",
   "execution_count": 233,
   "metadata": {},
   "outputs": [
    {
     "name": "stderr",
     "output_type": "stream",
     "text": [
      "/home/hylke/miniconda3/envs/imagecaption/lib/python3.10/site-packages/keras/src/layers/layer.py:393: UserWarning: `build()` was called on layer 'token_output_26', however the layer does not have a `build()` method implemented and it looks like it has unbuilt state. This will cause the layer to be marked as built, despite not being actually built, which may cause failures down the line. Make sure to implement a proper `build()` method.\n",
      "  warnings.warn(\n",
      "/home/hylke/miniconda3/envs/imagecaption/lib/python3.10/site-packages/keras/src/saving/serialization_lib.py:730: UserWarning: Model 'captioner_40' had a build config, but the model cannot be built automatically in `build_from_config(config)`. You should implement `def build_from_config(self, config)`, and you might also want to implement the method  that generates the config at saving time, `def get_build_config(self)`. The method `build_from_config()` is meant to create the state of the model (i.e. its variables) upon deserialization.\n",
      "  instance.build_from_config(build_config)\n"
     ]
    },
    {
     "ename": "ValueError",
     "evalue": "A total of 2 objects could not be loaded. Example error message for object <TextVectorization name=text_vectorization_41, built=False>:\n\nexpected str, bytes or os.PathLike object, not NoneType\n\nList of objects that could not be loaded:\n[<TextVectorization name=text_vectorization_41, built=False>, <StringLookup name=string_lookup_126, built=False>]",
     "output_type": "error",
     "traceback": [
      "\u001b[0;31m---------------------------------------------------------------------------\u001b[0m",
      "\u001b[0;31mValueError\u001b[0m                                Traceback (most recent call last)",
      "Cell \u001b[0;32mIn[233], line 1\u001b[0m\n\u001b[0;32m----> 1\u001b[0m loaded_model \u001b[38;5;241m=\u001b[39m \u001b[43mload_model\u001b[49m\u001b[43m(\u001b[49m\n\u001b[1;32m      2\u001b[0m \u001b[43m    \u001b[49m\u001b[38;5;124;43m'\u001b[39;49m\u001b[38;5;124;43mtrained_model/model_checkpoint.keras\u001b[39;49m\u001b[38;5;124;43m'\u001b[39;49m\u001b[43m,\u001b[49m\n\u001b[1;32m      3\u001b[0m \u001b[43m    \u001b[49m\u001b[43mcustom_objects\u001b[49m\u001b[38;5;241;43m=\u001b[39;49m\u001b[43m{\u001b[49m\n\u001b[1;32m      4\u001b[0m \u001b[43m        \u001b[49m\u001b[38;5;124;43m'\u001b[39;49m\u001b[38;5;124;43mSeqEmbedding\u001b[39;49m\u001b[38;5;124;43m'\u001b[39;49m\u001b[43m:\u001b[49m\u001b[43m \u001b[49m\u001b[43mSeqEmbedding\u001b[49m\u001b[43m,\u001b[49m\n\u001b[1;32m      5\u001b[0m \u001b[43m        \u001b[49m\u001b[38;5;124;43m'\u001b[39;49m\u001b[38;5;124;43mCausalSelfAttention\u001b[39;49m\u001b[38;5;124;43m'\u001b[39;49m\u001b[43m:\u001b[49m\u001b[43m \u001b[49m\u001b[43mCausalSelfAttention\u001b[49m\u001b[43m,\u001b[49m\n\u001b[1;32m      6\u001b[0m \u001b[43m        \u001b[49m\u001b[38;5;124;43m'\u001b[39;49m\u001b[38;5;124;43mCrossAttention\u001b[39;49m\u001b[38;5;124;43m'\u001b[39;49m\u001b[43m:\u001b[49m\u001b[43m \u001b[49m\u001b[43mCrossAttention\u001b[49m\u001b[43m,\u001b[49m\n\u001b[1;32m      7\u001b[0m \u001b[43m        \u001b[49m\u001b[38;5;124;43m'\u001b[39;49m\u001b[38;5;124;43mFeedForward\u001b[39;49m\u001b[38;5;124;43m'\u001b[39;49m\u001b[43m:\u001b[49m\u001b[43m \u001b[49m\u001b[43mFeedForward\u001b[49m\u001b[43m,\u001b[49m\n\u001b[1;32m      8\u001b[0m \u001b[43m        \u001b[49m\u001b[38;5;124;43m'\u001b[39;49m\u001b[38;5;124;43mDecoderLayer\u001b[39;49m\u001b[38;5;124;43m'\u001b[39;49m\u001b[43m:\u001b[49m\u001b[43m \u001b[49m\u001b[43mDecoderLayer\u001b[49m\u001b[43m,\u001b[49m\n\u001b[1;32m      9\u001b[0m \u001b[43m        \u001b[49m\u001b[38;5;124;43m'\u001b[39;49m\u001b[38;5;124;43mTokenOutput\u001b[39;49m\u001b[38;5;124;43m'\u001b[39;49m\u001b[43m:\u001b[49m\u001b[43m \u001b[49m\u001b[43mTokenOutput\u001b[49m\u001b[43m,\u001b[49m\n\u001b[1;32m     10\u001b[0m \u001b[43m        \u001b[49m\u001b[38;5;124;43m'\u001b[39;49m\u001b[38;5;124;43mCaptioner\u001b[39;49m\u001b[38;5;124;43m'\u001b[39;49m\u001b[43m:\u001b[49m\u001b[43m \u001b[49m\u001b[43mCaptioner\u001b[49m\u001b[43m,\u001b[49m\n\u001b[1;32m     11\u001b[0m \u001b[43m        \u001b[49m\u001b[38;5;124;43m'\u001b[39;49m\u001b[38;5;124;43mmasked_loss\u001b[39;49m\u001b[38;5;124;43m'\u001b[39;49m\u001b[43m:\u001b[49m\u001b[43m \u001b[49m\u001b[43mmasked_loss\u001b[49m\u001b[43m,\u001b[49m\n\u001b[1;32m     12\u001b[0m \u001b[43m        \u001b[49m\u001b[38;5;124;43m'\u001b[39;49m\u001b[38;5;124;43mmasked_acc\u001b[39;49m\u001b[38;5;124;43m'\u001b[39;49m\u001b[43m:\u001b[49m\u001b[43m \u001b[49m\u001b[43mmasked_acc\u001b[49m\u001b[43m,\u001b[49m\n\u001b[1;32m     13\u001b[0m \u001b[43m        \u001b[49m\u001b[38;5;124;43m'\u001b[39;49m\u001b[38;5;124;43mstandardize\u001b[39;49m\u001b[38;5;124;43m'\u001b[39;49m\u001b[43m:\u001b[49m\u001b[43m \u001b[49m\u001b[43mstandardize\u001b[49m\n\u001b[1;32m     14\u001b[0m \u001b[43m    \u001b[49m\u001b[43m}\u001b[49m\n\u001b[1;32m     15\u001b[0m \u001b[43m)\u001b[49m\n",
      "File \u001b[0;32m~/miniconda3/envs/imagecaption/lib/python3.10/site-packages/keras/src/saving/saving_api.py:189\u001b[0m, in \u001b[0;36mload_model\u001b[0;34m(filepath, custom_objects, compile, safe_mode)\u001b[0m\n\u001b[1;32m    186\u001b[0m         is_keras_zip \u001b[38;5;241m=\u001b[39m \u001b[38;5;28;01mTrue\u001b[39;00m\n\u001b[1;32m    188\u001b[0m \u001b[38;5;28;01mif\u001b[39;00m is_keras_zip \u001b[38;5;129;01mor\u001b[39;00m is_keras_dir \u001b[38;5;129;01mor\u001b[39;00m is_hf:\n\u001b[0;32m--> 189\u001b[0m     \u001b[38;5;28;01mreturn\u001b[39;00m \u001b[43msaving_lib\u001b[49m\u001b[38;5;241;43m.\u001b[39;49m\u001b[43mload_model\u001b[49m\u001b[43m(\u001b[49m\n\u001b[1;32m    190\u001b[0m \u001b[43m        \u001b[49m\u001b[43mfilepath\u001b[49m\u001b[43m,\u001b[49m\n\u001b[1;32m    191\u001b[0m \u001b[43m        \u001b[49m\u001b[43mcustom_objects\u001b[49m\u001b[38;5;241;43m=\u001b[39;49m\u001b[43mcustom_objects\u001b[49m\u001b[43m,\u001b[49m\n\u001b[1;32m    192\u001b[0m \u001b[43m        \u001b[49m\u001b[38;5;28;43mcompile\u001b[39;49m\u001b[38;5;241;43m=\u001b[39;49m\u001b[38;5;28;43mcompile\u001b[39;49m\u001b[43m,\u001b[49m\n\u001b[1;32m    193\u001b[0m \u001b[43m        \u001b[49m\u001b[43msafe_mode\u001b[49m\u001b[38;5;241;43m=\u001b[39;49m\u001b[43msafe_mode\u001b[49m\u001b[43m,\u001b[49m\n\u001b[1;32m    194\u001b[0m \u001b[43m    \u001b[49m\u001b[43m)\u001b[49m\n\u001b[1;32m    195\u001b[0m \u001b[38;5;28;01mif\u001b[39;00m \u001b[38;5;28mstr\u001b[39m(filepath)\u001b[38;5;241m.\u001b[39mendswith((\u001b[38;5;124m\"\u001b[39m\u001b[38;5;124m.h5\u001b[39m\u001b[38;5;124m\"\u001b[39m, \u001b[38;5;124m\"\u001b[39m\u001b[38;5;124m.hdf5\u001b[39m\u001b[38;5;124m\"\u001b[39m)):\n\u001b[1;32m    196\u001b[0m     \u001b[38;5;28;01mreturn\u001b[39;00m legacy_h5_format\u001b[38;5;241m.\u001b[39mload_model_from_hdf5(\n\u001b[1;32m    197\u001b[0m         filepath, custom_objects\u001b[38;5;241m=\u001b[39mcustom_objects, \u001b[38;5;28mcompile\u001b[39m\u001b[38;5;241m=\u001b[39m\u001b[38;5;28mcompile\u001b[39m\n\u001b[1;32m    198\u001b[0m     )\n",
      "File \u001b[0;32m~/miniconda3/envs/imagecaption/lib/python3.10/site-packages/keras/src/saving/saving_lib.py:367\u001b[0m, in \u001b[0;36mload_model\u001b[0;34m(filepath, custom_objects, compile, safe_mode)\u001b[0m\n\u001b[1;32m    362\u001b[0m     \u001b[38;5;28;01mraise\u001b[39;00m \u001b[38;5;167;01mValueError\u001b[39;00m(\n\u001b[1;32m    363\u001b[0m         \u001b[38;5;124m\"\u001b[39m\u001b[38;5;124mInvalid filename: expected a `.keras` extension. \u001b[39m\u001b[38;5;124m\"\u001b[39m\n\u001b[1;32m    364\u001b[0m         \u001b[38;5;124mf\u001b[39m\u001b[38;5;124m\"\u001b[39m\u001b[38;5;124mReceived: filepath=\u001b[39m\u001b[38;5;132;01m{\u001b[39;00mfilepath\u001b[38;5;132;01m}\u001b[39;00m\u001b[38;5;124m\"\u001b[39m\n\u001b[1;32m    365\u001b[0m     )\n\u001b[1;32m    366\u001b[0m \u001b[38;5;28;01mwith\u001b[39;00m \u001b[38;5;28mopen\u001b[39m(filepath, \u001b[38;5;124m\"\u001b[39m\u001b[38;5;124mrb\u001b[39m\u001b[38;5;124m\"\u001b[39m) \u001b[38;5;28;01mas\u001b[39;00m f:\n\u001b[0;32m--> 367\u001b[0m     \u001b[38;5;28;01mreturn\u001b[39;00m \u001b[43m_load_model_from_fileobj\u001b[49m\u001b[43m(\u001b[49m\n\u001b[1;32m    368\u001b[0m \u001b[43m        \u001b[49m\u001b[43mf\u001b[49m\u001b[43m,\u001b[49m\u001b[43m \u001b[49m\u001b[43mcustom_objects\u001b[49m\u001b[43m,\u001b[49m\u001b[43m \u001b[49m\u001b[38;5;28;43mcompile\u001b[39;49m\u001b[43m,\u001b[49m\u001b[43m \u001b[49m\u001b[43msafe_mode\u001b[49m\n\u001b[1;32m    369\u001b[0m \u001b[43m    \u001b[49m\u001b[43m)\u001b[49m\n",
      "File \u001b[0;32m~/miniconda3/envs/imagecaption/lib/python3.10/site-packages/keras/src/saving/saving_lib.py:509\u001b[0m, in \u001b[0;36m_load_model_from_fileobj\u001b[0;34m(fileobj, custom_objects, compile, safe_mode)\u001b[0m\n\u001b[1;32m    506\u001b[0m             extract_dir\u001b[38;5;241m.\u001b[39mcleanup()\n\u001b[1;32m    508\u001b[0m     \u001b[38;5;28;01mif\u001b[39;00m failed_saveables:\n\u001b[0;32m--> 509\u001b[0m         \u001b[43m_raise_loading_failure\u001b[49m\u001b[43m(\u001b[49m\u001b[43merror_msgs\u001b[49m\u001b[43m)\u001b[49m\n\u001b[1;32m    510\u001b[0m \u001b[38;5;28;01mreturn\u001b[39;00m model\n",
      "File \u001b[0;32m~/miniconda3/envs/imagecaption/lib/python3.10/site-packages/keras/src/saving/saving_lib.py:631\u001b[0m, in \u001b[0;36m_raise_loading_failure\u001b[0;34m(error_msgs, warn_only)\u001b[0m\n\u001b[1;32m    629\u001b[0m     warnings\u001b[38;5;241m.\u001b[39mwarn(msg)\n\u001b[1;32m    630\u001b[0m \u001b[38;5;28;01melse\u001b[39;00m:\n\u001b[0;32m--> 631\u001b[0m     \u001b[38;5;28;01mraise\u001b[39;00m \u001b[38;5;167;01mValueError\u001b[39;00m(msg)\n",
      "\u001b[0;31mValueError\u001b[0m: A total of 2 objects could not be loaded. Example error message for object <TextVectorization name=text_vectorization_41, built=False>:\n\nexpected str, bytes or os.PathLike object, not NoneType\n\nList of objects that could not be loaded:\n[<TextVectorization name=text_vectorization_41, built=False>, <StringLookup name=string_lookup_126, built=False>]"
     ]
    }
   ],
   "source": [
    "# Spent 2 days on this, I can't figure it out :(\n",
    "\n",
    "loaded_model = load_model(\n",
    "    'trained_model/model_checkpoint.keras',\n",
    "    custom_objects={\n",
    "        'SeqEmbedding': SeqEmbedding,\n",
    "        'CausalSelfAttention': CausalSelfAttention,\n",
    "        'CrossAttention': CrossAttention,\n",
    "        'FeedForward': FeedForward,\n",
    "        'DecoderLayer': DecoderLayer,\n",
    "        'TokenOutput': TokenOutput,\n",
    "        'Captioner': Captioner,\n",
    "        'masked_loss': masked_loss,\n",
    "        'masked_acc': masked_acc\n",
    "    }\n",
    ")"
   ]
  }
 ],
 "metadata": {
  "kernelspec": {
   "display_name": "imagecaption",
   "language": "python",
   "name": "python3"
  },
  "language_info": {
   "codemirror_mode": {
    "name": "ipython",
    "version": 3
   },
   "file_extension": ".py",
   "mimetype": "text/x-python",
   "name": "python",
   "nbconvert_exporter": "python",
   "pygments_lexer": "ipython3",
   "version": "3.10.16"
  }
 },
 "nbformat": 4,
 "nbformat_minor": 2
}
